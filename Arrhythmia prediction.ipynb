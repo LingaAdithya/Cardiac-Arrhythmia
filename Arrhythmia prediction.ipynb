{
 "cells": [
  {
   "cell_type": "code",
   "execution_count": 1,
   "metadata": {},
   "outputs": [],
   "source": [
    "import pandas as pd"
   ]
  },
  {
   "cell_type": "code",
   "execution_count": 2,
   "metadata": {},
   "outputs": [
    {
     "name": "stderr",
     "output_type": "stream",
     "text": [
      "C:\\Users\\LingaAdithya\\AppData\\Local\\Temp\\ipykernel_18396\\3604635805.py:3: DtypeWarning: Columns (1) have mixed types. Specify dtype option on import or set low_memory=False.\n",
      "  data3 = pd.read_csv(\"Sudden Cardiac Death Holter Database.csv\")\n"
     ]
    }
   ],
   "source": [
    "data1 = pd.read_csv('MIT-BIH Arrhythmia Database.csv')\n",
    "data2 = pd.read_csv('MIT-BIH Supraventricular Arrhythmia Database.csv')\n",
    "data3 = pd.read_csv(\"Sudden Cardiac Death Holter Database.csv\")\n",
    "data4 = pd.read_csv(\"INCART 2-lead Arrhythmia Database.csv\")\n",
    "\n",
    "# Concatenate along rows (assuming the same columns)\n",
    "db = pd.concat([data1, data2, data3, data4], ignore_index=True)"
   ]
  },
  {
   "cell_type": "code",
   "execution_count": 3,
   "metadata": {},
   "outputs": [
    {
     "name": "stdout",
     "output_type": "stream",
     "text": [
      "s1: (100689, 34) s2: (184428, 34) s3: (502808, 34) s4: (175729, 34)\n"
     ]
    }
   ],
   "source": [
    "s1 = data1.shape\n",
    "s2 = data2.shape\n",
    "s3 = data3.shape\n",
    "s4 = data4.shape\n",
    "print('s1:',s1,'s2:',s2,'s3:',s3,'s4:',s4)"
   ]
  },
  {
   "cell_type": "code",
   "execution_count": 4,
   "metadata": {},
   "outputs": [
    {
     "data": {
      "text/plain": [
       "(963654, 34)"
      ]
     },
     "execution_count": 4,
     "metadata": {},
     "output_type": "execute_result"
    }
   ],
   "source": [
    "db.shape"
   ]
  },
  {
   "cell_type": "code",
   "execution_count": 5,
   "metadata": {},
   "outputs": [
    {
     "data": {
      "text/html": [
       "<div>\n",
       "<style scoped>\n",
       "    .dataframe tbody tr th:only-of-type {\n",
       "        vertical-align: middle;\n",
       "    }\n",
       "\n",
       "    .dataframe tbody tr th {\n",
       "        vertical-align: top;\n",
       "    }\n",
       "\n",
       "    .dataframe thead th {\n",
       "        text-align: right;\n",
       "    }\n",
       "</style>\n",
       "<table border=\"1\" class=\"dataframe\">\n",
       "  <thead>\n",
       "    <tr style=\"text-align: right;\">\n",
       "      <th></th>\n",
       "      <th>record</th>\n",
       "      <th>type</th>\n",
       "      <th>0_pre-RR</th>\n",
       "      <th>0_post-RR</th>\n",
       "      <th>0_pPeak</th>\n",
       "      <th>0_tPeak</th>\n",
       "      <th>0_rPeak</th>\n",
       "      <th>0_sPeak</th>\n",
       "      <th>0_qPeak</th>\n",
       "      <th>0_qrs_interval</th>\n",
       "      <th>...</th>\n",
       "      <th>1_qPeak</th>\n",
       "      <th>1_qrs_interval</th>\n",
       "      <th>1_pq_interval</th>\n",
       "      <th>1_qt_interval</th>\n",
       "      <th>1_st_interval</th>\n",
       "      <th>1_qrs_morph0</th>\n",
       "      <th>1_qrs_morph1</th>\n",
       "      <th>1_qrs_morph2</th>\n",
       "      <th>1_qrs_morph3</th>\n",
       "      <th>1_qrs_morph4</th>\n",
       "    </tr>\n",
       "  </thead>\n",
       "  <tbody>\n",
       "    <tr>\n",
       "      <th>0</th>\n",
       "      <td>101</td>\n",
       "      <td>N</td>\n",
       "      <td>76.0</td>\n",
       "      <td>313.0</td>\n",
       "      <td>0.074347</td>\n",
       "      <td>-0.160548</td>\n",
       "      <td>1.036401</td>\n",
       "      <td>-0.285662</td>\n",
       "      <td>-0.026824</td>\n",
       "      <td>41.0</td>\n",
       "      <td>...</td>\n",
       "      <td>0.025930</td>\n",
       "      <td>2.0</td>\n",
       "      <td>18.0</td>\n",
       "      <td>22.0</td>\n",
       "      <td>2.0</td>\n",
       "      <td>0.025930</td>\n",
       "      <td>0.025930</td>\n",
       "      <td>0.025930</td>\n",
       "      <td>0.025436</td>\n",
       "      <td>0.025436</td>\n",
       "    </tr>\n",
       "    <tr>\n",
       "      <th>1</th>\n",
       "      <td>101</td>\n",
       "      <td>N</td>\n",
       "      <td>313.0</td>\n",
       "      <td>315.0</td>\n",
       "      <td>-0.052079</td>\n",
       "      <td>-0.264784</td>\n",
       "      <td>0.886597</td>\n",
       "      <td>-0.366298</td>\n",
       "      <td>-0.059710</td>\n",
       "      <td>21.0</td>\n",
       "      <td>...</td>\n",
       "      <td>-0.042009</td>\n",
       "      <td>26.0</td>\n",
       "      <td>27.0</td>\n",
       "      <td>62.0</td>\n",
       "      <td>9.0</td>\n",
       "      <td>-0.042009</td>\n",
       "      <td>-0.029498</td>\n",
       "      <td>0.005012</td>\n",
       "      <td>0.030892</td>\n",
       "      <td>0.002986</td>\n",
       "    </tr>\n",
       "    <tr>\n",
       "      <th>2</th>\n",
       "      <td>101</td>\n",
       "      <td>N</td>\n",
       "      <td>315.0</td>\n",
       "      <td>321.0</td>\n",
       "      <td>-0.062151</td>\n",
       "      <td>-0.296983</td>\n",
       "      <td>0.991859</td>\n",
       "      <td>-0.410306</td>\n",
       "      <td>-0.065686</td>\n",
       "      <td>22.0</td>\n",
       "      <td>...</td>\n",
       "      <td>0.009528</td>\n",
       "      <td>3.0</td>\n",
       "      <td>8.0</td>\n",
       "      <td>12.0</td>\n",
       "      <td>1.0</td>\n",
       "      <td>0.009528</td>\n",
       "      <td>0.009528</td>\n",
       "      <td>0.008786</td>\n",
       "      <td>0.008786</td>\n",
       "      <td>0.008368</td>\n",
       "    </tr>\n",
       "    <tr>\n",
       "      <th>3</th>\n",
       "      <td>101</td>\n",
       "      <td>N</td>\n",
       "      <td>321.0</td>\n",
       "      <td>336.0</td>\n",
       "      <td>-0.063322</td>\n",
       "      <td>-0.281386</td>\n",
       "      <td>1.034903</td>\n",
       "      <td>-0.403880</td>\n",
       "      <td>-0.071750</td>\n",
       "      <td>22.0</td>\n",
       "      <td>...</td>\n",
       "      <td>-0.020536</td>\n",
       "      <td>6.0</td>\n",
       "      <td>9.0</td>\n",
       "      <td>16.0</td>\n",
       "      <td>1.0</td>\n",
       "      <td>-0.020536</td>\n",
       "      <td>-0.020257</td>\n",
       "      <td>-0.018965</td>\n",
       "      <td>-0.016968</td>\n",
       "      <td>-0.014555</td>\n",
       "    </tr>\n",
       "    <tr>\n",
       "      <th>4</th>\n",
       "      <td>101</td>\n",
       "      <td>N</td>\n",
       "      <td>336.0</td>\n",
       "      <td>344.0</td>\n",
       "      <td>-0.062915</td>\n",
       "      <td>1.046914</td>\n",
       "      <td>1.046408</td>\n",
       "      <td>1.046408</td>\n",
       "      <td>-0.074639</td>\n",
       "      <td>11.0</td>\n",
       "      <td>...</td>\n",
       "      <td>0.016053</td>\n",
       "      <td>16.0</td>\n",
       "      <td>5.0</td>\n",
       "      <td>31.0</td>\n",
       "      <td>10.0</td>\n",
       "      <td>0.016053</td>\n",
       "      <td>0.006742</td>\n",
       "      <td>0.002782</td>\n",
       "      <td>-0.007798</td>\n",
       "      <td>-0.051155</td>\n",
       "    </tr>\n",
       "    <tr>\n",
       "      <th>...</th>\n",
       "      <td>...</td>\n",
       "      <td>...</td>\n",
       "      <td>...</td>\n",
       "      <td>...</td>\n",
       "      <td>...</td>\n",
       "      <td>...</td>\n",
       "      <td>...</td>\n",
       "      <td>...</td>\n",
       "      <td>...</td>\n",
       "      <td>...</td>\n",
       "      <td>...</td>\n",
       "      <td>...</td>\n",
       "      <td>...</td>\n",
       "      <td>...</td>\n",
       "      <td>...</td>\n",
       "      <td>...</td>\n",
       "      <td>...</td>\n",
       "      <td>...</td>\n",
       "      <td>...</td>\n",
       "      <td>...</td>\n",
       "      <td>...</td>\n",
       "    </tr>\n",
       "    <tr>\n",
       "      <th>963649</th>\n",
       "      <td>I75</td>\n",
       "      <td>VEB</td>\n",
       "      <td>205.0</td>\n",
       "      <td>254.0</td>\n",
       "      <td>0.167375</td>\n",
       "      <td>0.998450</td>\n",
       "      <td>-1.884460</td>\n",
       "      <td>-2.278752</td>\n",
       "      <td>-1.884460</td>\n",
       "      <td>3.0</td>\n",
       "      <td>...</td>\n",
       "      <td>-0.063313</td>\n",
       "      <td>31.0</td>\n",
       "      <td>8.0</td>\n",
       "      <td>44.0</td>\n",
       "      <td>5.0</td>\n",
       "      <td>-0.063313</td>\n",
       "      <td>0.026827</td>\n",
       "      <td>0.679694</td>\n",
       "      <td>1.798788</td>\n",
       "      <td>1.291884</td>\n",
       "    </tr>\n",
       "    <tr>\n",
       "      <th>963650</th>\n",
       "      <td>I75</td>\n",
       "      <td>N</td>\n",
       "      <td>254.0</td>\n",
       "      <td>231.0</td>\n",
       "      <td>0.067664</td>\n",
       "      <td>0.986674</td>\n",
       "      <td>-0.321804</td>\n",
       "      <td>-0.321804</td>\n",
       "      <td>-0.743924</td>\n",
       "      <td>2.0</td>\n",
       "      <td>...</td>\n",
       "      <td>-0.038867</td>\n",
       "      <td>5.0</td>\n",
       "      <td>3.0</td>\n",
       "      <td>24.0</td>\n",
       "      <td>16.0</td>\n",
       "      <td>-0.038867</td>\n",
       "      <td>-0.370870</td>\n",
       "      <td>-0.697097</td>\n",
       "      <td>-0.948059</td>\n",
       "      <td>-1.078708</td>\n",
       "    </tr>\n",
       "    <tr>\n",
       "      <th>963651</th>\n",
       "      <td>I75</td>\n",
       "      <td>N</td>\n",
       "      <td>231.0</td>\n",
       "      <td>229.0</td>\n",
       "      <td>-0.129754</td>\n",
       "      <td>0.746366</td>\n",
       "      <td>-0.303551</td>\n",
       "      <td>-0.303551</td>\n",
       "      <td>-0.875649</td>\n",
       "      <td>3.0</td>\n",
       "      <td>...</td>\n",
       "      <td>-0.113876</td>\n",
       "      <td>4.0</td>\n",
       "      <td>4.0</td>\n",
       "      <td>24.0</td>\n",
       "      <td>16.0</td>\n",
       "      <td>-0.113876</td>\n",
       "      <td>-0.113876</td>\n",
       "      <td>-0.452218</td>\n",
       "      <td>-0.738737</td>\n",
       "      <td>-0.917931</td>\n",
       "    </tr>\n",
       "    <tr>\n",
       "      <th>963652</th>\n",
       "      <td>I75</td>\n",
       "      <td>N</td>\n",
       "      <td>229.0</td>\n",
       "      <td>232.0</td>\n",
       "      <td>-0.133953</td>\n",
       "      <td>0.747789</td>\n",
       "      <td>-0.626746</td>\n",
       "      <td>-0.626746</td>\n",
       "      <td>-0.871080</td>\n",
       "      <td>2.0</td>\n",
       "      <td>...</td>\n",
       "      <td>0.087784</td>\n",
       "      <td>18.0</td>\n",
       "      <td>8.0</td>\n",
       "      <td>42.0</td>\n",
       "      <td>16.0</td>\n",
       "      <td>0.087784</td>\n",
       "      <td>0.107684</td>\n",
       "      <td>0.308452</td>\n",
       "      <td>0.572327</td>\n",
       "      <td>-0.093598</td>\n",
       "    </tr>\n",
       "    <tr>\n",
       "      <th>963653</th>\n",
       "      <td>I75</td>\n",
       "      <td>N</td>\n",
       "      <td>232.0</td>\n",
       "      <td>213.0</td>\n",
       "      <td>-0.157739</td>\n",
       "      <td>0.835266</td>\n",
       "      <td>-0.197554</td>\n",
       "      <td>-0.197554</td>\n",
       "      <td>-0.908338</td>\n",
       "      <td>3.0</td>\n",
       "      <td>...</td>\n",
       "      <td>-0.125196</td>\n",
       "      <td>4.0</td>\n",
       "      <td>4.0</td>\n",
       "      <td>24.0</td>\n",
       "      <td>16.0</td>\n",
       "      <td>-0.125196</td>\n",
       "      <td>-0.125196</td>\n",
       "      <td>-0.461763</td>\n",
       "      <td>-0.740296</td>\n",
       "      <td>-0.907729</td>\n",
       "    </tr>\n",
       "  </tbody>\n",
       "</table>\n",
       "<p>963654 rows × 34 columns</p>\n",
       "</div>"
      ],
      "text/plain": [
       "       record type  0_pre-RR  0_post-RR   0_pPeak   0_tPeak   0_rPeak  \\\n",
       "0         101    N      76.0      313.0  0.074347 -0.160548  1.036401   \n",
       "1         101    N     313.0      315.0 -0.052079 -0.264784  0.886597   \n",
       "2         101    N     315.0      321.0 -0.062151 -0.296983  0.991859   \n",
       "3         101    N     321.0      336.0 -0.063322 -0.281386  1.034903   \n",
       "4         101    N     336.0      344.0 -0.062915  1.046914  1.046408   \n",
       "...       ...  ...       ...        ...       ...       ...       ...   \n",
       "963649    I75  VEB     205.0      254.0  0.167375  0.998450 -1.884460   \n",
       "963650    I75    N     254.0      231.0  0.067664  0.986674 -0.321804   \n",
       "963651    I75    N     231.0      229.0 -0.129754  0.746366 -0.303551   \n",
       "963652    I75    N     229.0      232.0 -0.133953  0.747789 -0.626746   \n",
       "963653    I75    N     232.0      213.0 -0.157739  0.835266 -0.197554   \n",
       "\n",
       "         0_sPeak   0_qPeak  0_qrs_interval  ...   1_qPeak  1_qrs_interval  \\\n",
       "0      -0.285662 -0.026824            41.0  ...  0.025930             2.0   \n",
       "1      -0.366298 -0.059710            21.0  ... -0.042009            26.0   \n",
       "2      -0.410306 -0.065686            22.0  ...  0.009528             3.0   \n",
       "3      -0.403880 -0.071750            22.0  ... -0.020536             6.0   \n",
       "4       1.046408 -0.074639            11.0  ...  0.016053            16.0   \n",
       "...          ...       ...             ...  ...       ...             ...   \n",
       "963649 -2.278752 -1.884460             3.0  ... -0.063313            31.0   \n",
       "963650 -0.321804 -0.743924             2.0  ... -0.038867             5.0   \n",
       "963651 -0.303551 -0.875649             3.0  ... -0.113876             4.0   \n",
       "963652 -0.626746 -0.871080             2.0  ...  0.087784            18.0   \n",
       "963653 -0.197554 -0.908338             3.0  ... -0.125196             4.0   \n",
       "\n",
       "        1_pq_interval  1_qt_interval  1_st_interval  1_qrs_morph0  \\\n",
       "0                18.0           22.0            2.0      0.025930   \n",
       "1                27.0           62.0            9.0     -0.042009   \n",
       "2                 8.0           12.0            1.0      0.009528   \n",
       "3                 9.0           16.0            1.0     -0.020536   \n",
       "4                 5.0           31.0           10.0      0.016053   \n",
       "...               ...            ...            ...           ...   \n",
       "963649            8.0           44.0            5.0     -0.063313   \n",
       "963650            3.0           24.0           16.0     -0.038867   \n",
       "963651            4.0           24.0           16.0     -0.113876   \n",
       "963652            8.0           42.0           16.0      0.087784   \n",
       "963653            4.0           24.0           16.0     -0.125196   \n",
       "\n",
       "        1_qrs_morph1  1_qrs_morph2  1_qrs_morph3  1_qrs_morph4  \n",
       "0           0.025930      0.025930      0.025436      0.025436  \n",
       "1          -0.029498      0.005012      0.030892      0.002986  \n",
       "2           0.009528      0.008786      0.008786      0.008368  \n",
       "3          -0.020257     -0.018965     -0.016968     -0.014555  \n",
       "4           0.006742      0.002782     -0.007798     -0.051155  \n",
       "...              ...           ...           ...           ...  \n",
       "963649      0.026827      0.679694      1.798788      1.291884  \n",
       "963650     -0.370870     -0.697097     -0.948059     -1.078708  \n",
       "963651     -0.113876     -0.452218     -0.738737     -0.917931  \n",
       "963652      0.107684      0.308452      0.572327     -0.093598  \n",
       "963653     -0.125196     -0.461763     -0.740296     -0.907729  \n",
       "\n",
       "[963654 rows x 34 columns]"
      ]
     },
     "execution_count": 5,
     "metadata": {},
     "output_type": "execute_result"
    }
   ],
   "source": [
    "db"
   ]
  },
  {
   "cell_type": "code",
   "execution_count": 6,
   "metadata": {},
   "outputs": [
    {
     "data": {
      "text/plain": [
       "array(['N', 'Q', 'SVEB', 'VEB', 'F', nan], dtype=object)"
      ]
     },
     "execution_count": 6,
     "metadata": {},
     "output_type": "execute_result"
    }
   ],
   "source": [
    "db['type'].unique()"
   ]
  },
  {
   "cell_type": "code",
   "execution_count": 7,
   "metadata": {},
   "outputs": [
    {
     "data": {
      "text/plain": [
       "type\n",
       "N       809352\n",
       "NaN      76217\n",
       "VEB      51669\n",
       "SVEB     18540\n",
       "Q         6620\n",
       "F         1256\n",
       "Name: count, dtype: int64"
      ]
     },
     "execution_count": 7,
     "metadata": {},
     "output_type": "execute_result"
    }
   ],
   "source": [
    "db['type'].value_counts(dropna= False)"
   ]
  },
  {
   "cell_type": "code",
   "execution_count": 8,
   "metadata": {},
   "outputs": [
    {
     "data": {
      "text/plain": [
       "76217"
      ]
     },
     "execution_count": 8,
     "metadata": {},
     "output_type": "execute_result"
    }
   ],
   "source": [
    "db['type'].isna().sum()"
   ]
  },
  {
   "cell_type": "code",
   "execution_count": 9,
   "metadata": {},
   "outputs": [],
   "source": [
    "data = db.dropna(subset='type')"
   ]
  },
  {
   "cell_type": "code",
   "execution_count": 10,
   "metadata": {},
   "outputs": [
    {
     "data": {
      "text/plain": [
       "array(['N', 'Q', 'SVEB', 'VEB', 'F'], dtype=object)"
      ]
     },
     "execution_count": 10,
     "metadata": {},
     "output_type": "execute_result"
    }
   ],
   "source": [
    "data['type'].unique()"
   ]
  },
  {
   "cell_type": "code",
   "execution_count": 11,
   "metadata": {},
   "outputs": [
    {
     "data": {
      "text/plain": [
       "(887437, 34)"
      ]
     },
     "execution_count": 11,
     "metadata": {},
     "output_type": "execute_result"
    }
   ],
   "source": [
    "data.shape"
   ]
  },
  {
   "cell_type": "code",
   "execution_count": 12,
   "metadata": {},
   "outputs": [
    {
     "data": {
      "text/plain": [
       "type\n",
       "N       809352\n",
       "VEB      51669\n",
       "SVEB     18540\n",
       "Q         6620\n",
       "F         1256\n",
       "Name: count, dtype: int64"
      ]
     },
     "execution_count": 12,
     "metadata": {},
     "output_type": "execute_result"
    }
   ],
   "source": [
    "data['type'].value_counts()"
   ]
  },
  {
   "cell_type": "code",
   "execution_count": 13,
   "metadata": {},
   "outputs": [
    {
     "data": {
      "text/html": [
       "<div>\n",
       "<style scoped>\n",
       "    .dataframe tbody tr th:only-of-type {\n",
       "        vertical-align: middle;\n",
       "    }\n",
       "\n",
       "    .dataframe tbody tr th {\n",
       "        vertical-align: top;\n",
       "    }\n",
       "\n",
       "    .dataframe thead th {\n",
       "        text-align: right;\n",
       "    }\n",
       "</style>\n",
       "<table border=\"1\" class=\"dataframe\">\n",
       "  <thead>\n",
       "    <tr style=\"text-align: right;\">\n",
       "      <th></th>\n",
       "      <th>0_pre-RR</th>\n",
       "      <th>0_post-RR</th>\n",
       "      <th>0_pPeak</th>\n",
       "      <th>0_tPeak</th>\n",
       "      <th>0_rPeak</th>\n",
       "      <th>0_sPeak</th>\n",
       "      <th>0_qPeak</th>\n",
       "      <th>0_qrs_interval</th>\n",
       "      <th>0_pq_interval</th>\n",
       "      <th>0_qt_interval</th>\n",
       "      <th>...</th>\n",
       "      <th>1_qPeak</th>\n",
       "      <th>1_qrs_interval</th>\n",
       "      <th>1_pq_interval</th>\n",
       "      <th>1_qt_interval</th>\n",
       "      <th>1_st_interval</th>\n",
       "      <th>1_qrs_morph0</th>\n",
       "      <th>1_qrs_morph1</th>\n",
       "      <th>1_qrs_morph2</th>\n",
       "      <th>1_qrs_morph3</th>\n",
       "      <th>1_qrs_morph4</th>\n",
       "    </tr>\n",
       "  </thead>\n",
       "  <tbody>\n",
       "    <tr>\n",
       "      <th>count</th>\n",
       "      <td>887437.000000</td>\n",
       "      <td>887437.000000</td>\n",
       "      <td>887437.000000</td>\n",
       "      <td>887437.000000</td>\n",
       "      <td>887437.000000</td>\n",
       "      <td>887437.000000</td>\n",
       "      <td>887437.000000</td>\n",
       "      <td>887437.000000</td>\n",
       "      <td>887437.000000</td>\n",
       "      <td>887437.000000</td>\n",
       "      <td>...</td>\n",
       "      <td>712822.000000</td>\n",
       "      <td>712822.000000</td>\n",
       "      <td>712822.000000</td>\n",
       "      <td>712822.000000</td>\n",
       "      <td>712822.000000</td>\n",
       "      <td>712822.000000</td>\n",
       "      <td>712822.000000</td>\n",
       "      <td>712822.000000</td>\n",
       "      <td>712822.000000</td>\n",
       "      <td>712822.000000</td>\n",
       "    </tr>\n",
       "    <tr>\n",
       "      <th>mean</th>\n",
       "      <td>201.094300</td>\n",
       "      <td>201.049294</td>\n",
       "      <td>0.058577</td>\n",
       "      <td>0.437883</td>\n",
       "      <td>0.525119</td>\n",
       "      <td>-0.374234</td>\n",
       "      <td>-0.125992</td>\n",
       "      <td>17.880220</td>\n",
       "      <td>9.840402</td>\n",
       "      <td>45.083641</td>\n",
       "      <td>...</td>\n",
       "      <td>-0.196062</td>\n",
       "      <td>8.805619</td>\n",
       "      <td>7.766229</td>\n",
       "      <td>26.825658</td>\n",
       "      <td>10.253810</td>\n",
       "      <td>-0.196062</td>\n",
       "      <td>-0.199976</td>\n",
       "      <td>-0.201797</td>\n",
       "      <td>-0.212104</td>\n",
       "      <td>-0.343786</td>\n",
       "    </tr>\n",
       "    <tr>\n",
       "      <th>std</th>\n",
       "      <td>79.775056</td>\n",
       "      <td>80.443487</td>\n",
       "      <td>0.189333</td>\n",
       "      <td>0.655515</td>\n",
       "      <td>0.756260</td>\n",
       "      <td>0.695192</td>\n",
       "      <td>0.276407</td>\n",
       "      <td>13.890492</td>\n",
       "      <td>9.492744</td>\n",
       "      <td>34.992659</td>\n",
       "      <td>...</td>\n",
       "      <td>0.278353</td>\n",
       "      <td>9.796117</td>\n",
       "      <td>7.240070</td>\n",
       "      <td>15.736319</td>\n",
       "      <td>7.365708</td>\n",
       "      <td>0.278353</td>\n",
       "      <td>0.293306</td>\n",
       "      <td>0.390125</td>\n",
       "      <td>0.482360</td>\n",
       "      <td>0.473284</td>\n",
       "    </tr>\n",
       "    <tr>\n",
       "      <th>min</th>\n",
       "      <td>1.000000</td>\n",
       "      <td>0.000000</td>\n",
       "      <td>-4.208601</td>\n",
       "      <td>-7.959463</td>\n",
       "      <td>-7.113196</td>\n",
       "      <td>-7.971319</td>\n",
       "      <td>-7.113196</td>\n",
       "      <td>0.000000</td>\n",
       "      <td>1.000000</td>\n",
       "      <td>2.000000</td>\n",
       "      <td>...</td>\n",
       "      <td>-6.461754</td>\n",
       "      <td>0.000000</td>\n",
       "      <td>1.000000</td>\n",
       "      <td>2.000000</td>\n",
       "      <td>1.000000</td>\n",
       "      <td>-6.461754</td>\n",
       "      <td>-4.913302</td>\n",
       "      <td>-4.398122</td>\n",
       "      <td>-4.069726</td>\n",
       "      <td>-4.520327</td>\n",
       "    </tr>\n",
       "    <tr>\n",
       "      <th>25%</th>\n",
       "      <td>140.000000</td>\n",
       "      <td>140.000000</td>\n",
       "      <td>-0.027840</td>\n",
       "      <td>-0.020446</td>\n",
       "      <td>-0.027729</td>\n",
       "      <td>-0.693602</td>\n",
       "      <td>-0.141656</td>\n",
       "      <td>7.000000</td>\n",
       "      <td>4.000000</td>\n",
       "      <td>21.000000</td>\n",
       "      <td>...</td>\n",
       "      <td>-0.267480</td>\n",
       "      <td>3.000000</td>\n",
       "      <td>3.000000</td>\n",
       "      <td>16.000000</td>\n",
       "      <td>5.000000</td>\n",
       "      <td>-0.267480</td>\n",
       "      <td>-0.290440</td>\n",
       "      <td>-0.379994</td>\n",
       "      <td>-0.476696</td>\n",
       "      <td>-0.575708</td>\n",
       "    </tr>\n",
       "    <tr>\n",
       "      <th>50%</th>\n",
       "      <td>202.000000</td>\n",
       "      <td>202.000000</td>\n",
       "      <td>0.024179</td>\n",
       "      <td>0.220681</td>\n",
       "      <td>0.423092</td>\n",
       "      <td>-0.360031</td>\n",
       "      <td>-0.074250</td>\n",
       "      <td>16.000000</td>\n",
       "      <td>7.000000</td>\n",
       "      <td>35.000000</td>\n",
       "      <td>...</td>\n",
       "      <td>-0.110017</td>\n",
       "      <td>5.000000</td>\n",
       "      <td>5.000000</td>\n",
       "      <td>24.000000</td>\n",
       "      <td>9.000000</td>\n",
       "      <td>-0.110017</td>\n",
       "      <td>-0.126030</td>\n",
       "      <td>-0.151505</td>\n",
       "      <td>-0.178450</td>\n",
       "      <td>-0.287310</td>\n",
       "    </tr>\n",
       "    <tr>\n",
       "      <th>75%</th>\n",
       "      <td>258.000000</td>\n",
       "      <td>258.000000</td>\n",
       "      <td>0.099947</td>\n",
       "      <td>0.953379</td>\n",
       "      <td>0.962938</td>\n",
       "      <td>-0.030444</td>\n",
       "      <td>-0.029061</td>\n",
       "      <td>26.000000</td>\n",
       "      <td>14.000000</td>\n",
       "      <td>51.000000</td>\n",
       "      <td>...</td>\n",
       "      <td>-0.025411</td>\n",
       "      <td>12.000000</td>\n",
       "      <td>10.000000</td>\n",
       "      <td>34.000000</td>\n",
       "      <td>14.000000</td>\n",
       "      <td>-0.025411</td>\n",
       "      <td>-0.012755</td>\n",
       "      <td>0.025397</td>\n",
       "      <td>0.066766</td>\n",
       "      <td>-0.056566</td>\n",
       "    </tr>\n",
       "    <tr>\n",
       "      <th>max</th>\n",
       "      <td>2228.000000</td>\n",
       "      <td>10964.000000</td>\n",
       "      <td>10.565904</td>\n",
       "      <td>4.738824</td>\n",
       "      <td>4.598265</td>\n",
       "      <td>4.018918</td>\n",
       "      <td>3.129033</td>\n",
       "      <td>232.000000</td>\n",
       "      <td>150.000000</td>\n",
       "      <td>334.000000</td>\n",
       "      <td>...</td>\n",
       "      <td>4.033554</td>\n",
       "      <td>260.000000</td>\n",
       "      <td>185.000000</td>\n",
       "      <td>412.000000</td>\n",
       "      <td>215.000000</td>\n",
       "      <td>4.033554</td>\n",
       "      <td>3.585718</td>\n",
       "      <td>4.040094</td>\n",
       "      <td>3.755566</td>\n",
       "      <td>3.575504</td>\n",
       "    </tr>\n",
       "  </tbody>\n",
       "</table>\n",
       "<p>8 rows × 32 columns</p>\n",
       "</div>"
      ],
      "text/plain": [
       "            0_pre-RR      0_post-RR        0_pPeak        0_tPeak  \\\n",
       "count  887437.000000  887437.000000  887437.000000  887437.000000   \n",
       "mean      201.094300     201.049294       0.058577       0.437883   \n",
       "std        79.775056      80.443487       0.189333       0.655515   \n",
       "min         1.000000       0.000000      -4.208601      -7.959463   \n",
       "25%       140.000000     140.000000      -0.027840      -0.020446   \n",
       "50%       202.000000     202.000000       0.024179       0.220681   \n",
       "75%       258.000000     258.000000       0.099947       0.953379   \n",
       "max      2228.000000   10964.000000      10.565904       4.738824   \n",
       "\n",
       "             0_rPeak        0_sPeak        0_qPeak  0_qrs_interval  \\\n",
       "count  887437.000000  887437.000000  887437.000000   887437.000000   \n",
       "mean        0.525119      -0.374234      -0.125992       17.880220   \n",
       "std         0.756260       0.695192       0.276407       13.890492   \n",
       "min        -7.113196      -7.971319      -7.113196        0.000000   \n",
       "25%        -0.027729      -0.693602      -0.141656        7.000000   \n",
       "50%         0.423092      -0.360031      -0.074250       16.000000   \n",
       "75%         0.962938      -0.030444      -0.029061       26.000000   \n",
       "max         4.598265       4.018918       3.129033      232.000000   \n",
       "\n",
       "       0_pq_interval  0_qt_interval  ...        1_qPeak  1_qrs_interval  \\\n",
       "count  887437.000000  887437.000000  ...  712822.000000   712822.000000   \n",
       "mean        9.840402      45.083641  ...      -0.196062        8.805619   \n",
       "std         9.492744      34.992659  ...       0.278353        9.796117   \n",
       "min         1.000000       2.000000  ...      -6.461754        0.000000   \n",
       "25%         4.000000      21.000000  ...      -0.267480        3.000000   \n",
       "50%         7.000000      35.000000  ...      -0.110017        5.000000   \n",
       "75%        14.000000      51.000000  ...      -0.025411       12.000000   \n",
       "max       150.000000     334.000000  ...       4.033554      260.000000   \n",
       "\n",
       "       1_pq_interval  1_qt_interval  1_st_interval   1_qrs_morph0  \\\n",
       "count  712822.000000  712822.000000  712822.000000  712822.000000   \n",
       "mean        7.766229      26.825658      10.253810      -0.196062   \n",
       "std         7.240070      15.736319       7.365708       0.278353   \n",
       "min         1.000000       2.000000       1.000000      -6.461754   \n",
       "25%         3.000000      16.000000       5.000000      -0.267480   \n",
       "50%         5.000000      24.000000       9.000000      -0.110017   \n",
       "75%        10.000000      34.000000      14.000000      -0.025411   \n",
       "max       185.000000     412.000000     215.000000       4.033554   \n",
       "\n",
       "        1_qrs_morph1   1_qrs_morph2   1_qrs_morph3   1_qrs_morph4  \n",
       "count  712822.000000  712822.000000  712822.000000  712822.000000  \n",
       "mean       -0.199976      -0.201797      -0.212104      -0.343786  \n",
       "std         0.293306       0.390125       0.482360       0.473284  \n",
       "min        -4.913302      -4.398122      -4.069726      -4.520327  \n",
       "25%        -0.290440      -0.379994      -0.476696      -0.575708  \n",
       "50%        -0.126030      -0.151505      -0.178450      -0.287310  \n",
       "75%        -0.012755       0.025397       0.066766      -0.056566  \n",
       "max         3.585718       4.040094       3.755566       3.575504  \n",
       "\n",
       "[8 rows x 32 columns]"
      ]
     },
     "execution_count": 13,
     "metadata": {},
     "output_type": "execute_result"
    }
   ],
   "source": [
    "data.describe()"
   ]
  },
  {
   "cell_type": "code",
   "execution_count": 14,
   "metadata": {},
   "outputs": [
    {
     "data": {
      "text/plain": [
       "record             object\n",
       "type               object\n",
       "0_pre-RR          float64\n",
       "0_post-RR         float64\n",
       "0_pPeak           float64\n",
       "0_tPeak           float64\n",
       "0_rPeak           float64\n",
       "0_sPeak           float64\n",
       "0_qPeak           float64\n",
       "0_qrs_interval    float64\n",
       "0_pq_interval     float64\n",
       "0_qt_interval     float64\n",
       "0_st_interval     float64\n",
       "0_qrs_morph0      float64\n",
       "0_qrs_morph1      float64\n",
       "0_qrs_morph2      float64\n",
       "0_qrs_morph3      float64\n",
       "0_qrs_morph4      float64\n",
       "1_pre-RR          float64\n",
       "1_post-RR         float64\n",
       "1_pPeak           float64\n",
       "1_tPeak           float64\n",
       "1_rPeak           float64\n",
       "1_sPeak           float64\n",
       "1_qPeak           float64\n",
       "1_qrs_interval    float64\n",
       "1_pq_interval     float64\n",
       "1_qt_interval     float64\n",
       "1_st_interval     float64\n",
       "1_qrs_morph0      float64\n",
       "1_qrs_morph1      float64\n",
       "1_qrs_morph2      float64\n",
       "1_qrs_morph3      float64\n",
       "1_qrs_morph4      float64\n",
       "dtype: object"
      ]
     },
     "execution_count": 14,
     "metadata": {},
     "output_type": "execute_result"
    }
   ],
   "source": [
    "data.dtypes"
   ]
  },
  {
   "cell_type": "code",
   "execution_count": 15,
   "metadata": {},
   "outputs": [
    {
     "data": {
      "text/plain": [
       "record                 0\n",
       "type                   0\n",
       "0_pre-RR               0\n",
       "0_post-RR              0\n",
       "0_pPeak                0\n",
       "0_tPeak                0\n",
       "0_rPeak                0\n",
       "0_sPeak                0\n",
       "0_qPeak                0\n",
       "0_qrs_interval         0\n",
       "0_pq_interval          0\n",
       "0_qt_interval          0\n",
       "0_st_interval          0\n",
       "0_qrs_morph0           0\n",
       "0_qrs_morph1           0\n",
       "0_qrs_morph2           0\n",
       "0_qrs_morph3           0\n",
       "0_qrs_morph4           0\n",
       "1_pre-RR          174615\n",
       "1_post-RR         174615\n",
       "1_pPeak           174615\n",
       "1_tPeak           174615\n",
       "1_rPeak           174615\n",
       "1_sPeak           174615\n",
       "1_qPeak           174615\n",
       "1_qrs_interval    174615\n",
       "1_pq_interval     174615\n",
       "1_qt_interval     174615\n",
       "1_st_interval     174615\n",
       "1_qrs_morph0      174615\n",
       "1_qrs_morph1      174615\n",
       "1_qrs_morph2      174615\n",
       "1_qrs_morph3      174615\n",
       "1_qrs_morph4      174615\n",
       "dtype: int64"
      ]
     },
     "execution_count": 15,
     "metadata": {},
     "output_type": "execute_result"
    }
   ],
   "source": [
    "data.isna().sum()"
   ]
  },
  {
   "cell_type": "code",
   "execution_count": 16,
   "metadata": {},
   "outputs": [
    {
     "data": {
      "text/plain": [
       "Index(['record', 'type', '0_pre-RR', '0_post-RR', '0_pPeak', '0_tPeak',\n",
       "       '0_rPeak', '0_sPeak', '0_qPeak', '0_qrs_interval', '0_pq_interval',\n",
       "       '0_qt_interval', '0_st_interval', '0_qrs_morph0', '0_qrs_morph1',\n",
       "       '0_qrs_morph2', '0_qrs_morph3', '0_qrs_morph4', '1_pre-RR', '1_post-RR',\n",
       "       '1_pPeak', '1_tPeak', '1_rPeak', '1_sPeak', '1_qPeak', '1_qrs_interval',\n",
       "       '1_pq_interval', '1_qt_interval', '1_st_interval', '1_qrs_morph0',\n",
       "       '1_qrs_morph1', '1_qrs_morph2', '1_qrs_morph3', '1_qrs_morph4'],\n",
       "      dtype='object')"
      ]
     },
     "execution_count": 16,
     "metadata": {},
     "output_type": "execute_result"
    }
   ],
   "source": [
    "data.columns"
   ]
  },
  {
   "cell_type": "code",
   "execution_count": 17,
   "metadata": {},
   "outputs": [],
   "source": [
    "dataset = data.drop(['record','1_pre-RR', '1_post-RR','1_pPeak', '1_tPeak', '1_rPeak', '1_sPeak', '1_qPeak', '1_qrs_interval', '1_pq_interval', '1_qt_interval', '1_st_interval', '1_qrs_morph0', '1_qrs_morph1', '1_qrs_morph2', '1_qrs_morph3', '1_qrs_morph4'], axis=1)"
   ]
  },
  {
   "cell_type": "code",
   "execution_count": 18,
   "metadata": {},
   "outputs": [
    {
     "data": {
      "text/plain": [
       "Index(['type', '0_pre-RR', '0_post-RR', '0_pPeak', '0_tPeak', '0_rPeak',\n",
       "       '0_sPeak', '0_qPeak', '0_qrs_interval', '0_pq_interval',\n",
       "       '0_qt_interval', '0_st_interval', '0_qrs_morph0', '0_qrs_morph1',\n",
       "       '0_qrs_morph2', '0_qrs_morph3', '0_qrs_morph4'],\n",
       "      dtype='object')"
      ]
     },
     "execution_count": 18,
     "metadata": {},
     "output_type": "execute_result"
    }
   ],
   "source": [
    "dataset.columns"
   ]
  },
  {
   "cell_type": "code",
   "execution_count": null,
   "metadata": {},
   "outputs": [],
   "source": [
    "from sklearn.preprocessing import StandardScaler\n",
    "from sklearn.decomposition import PCA\n",
    "\n",
    "# Separate features and label (if any label column is identified, we would separate it; in this case 'type' could be a label)\n",
    "features = dataset.drop(columns=['type'])\n",
    "labels = dataset['type']\n",
    "\n",
    "# Standardize the Features\n",
    "scaler = StandardScaler()\n",
    "data_scaled = scaler.fit_transform(features)"
   ]
  },
  {
   "cell_type": "code",
   "execution_count": null,
   "metadata": {},
   "outputs": [
    {
     "data": {
      "text/plain": [
       "(9,\n",
       " array([0.3355377 , 0.1909225 , 0.14545435, 0.08504091, 0.05978655,\n",
       "        0.05475616, 0.04476649, 0.0274775 , 0.01979795]))"
      ]
     },
     "execution_count": 20,
     "metadata": {},
     "output_type": "execute_result"
    }
   ],
   "source": [
    "# Apply PCA for Dimensionality Reduction (Retaining 95% of the variance to determine the number of principal components)\n",
    "pca = PCA(n_components=0.95)\n",
    "data_pca = pca.fit_transform(data_scaled)\n",
    "\n",
    "# Number of components and explained variance ratio\n",
    "n_components = pca.n_components_\n",
    "explained_variance_ratio = pca.explained_variance_ratio_\n",
    "\n",
    "n_components, explained_variance_ratio"
   ]
  },
  {
   "cell_type": "code",
   "execution_count": null,
   "metadata": {},
   "outputs": [
    {
     "data": {
      "text/html": [
       "<div>\n",
       "<style scoped>\n",
       "    .dataframe tbody tr th:only-of-type {\n",
       "        vertical-align: middle;\n",
       "    }\n",
       "\n",
       "    .dataframe tbody tr th {\n",
       "        vertical-align: top;\n",
       "    }\n",
       "\n",
       "    .dataframe thead th {\n",
       "        text-align: right;\n",
       "    }\n",
       "</style>\n",
       "<table border=\"1\" class=\"dataframe\">\n",
       "  <thead>\n",
       "    <tr style=\"text-align: right;\">\n",
       "      <th></th>\n",
       "      <th>0_qrs_morph1+0_qrs_morph3</th>\n",
       "      <th>0_qt_interval+0_qrs_interval</th>\n",
       "      <th>0_sPeak+0_pre-RR</th>\n",
       "      <th>0_pPeak+0_pq_interval</th>\n",
       "      <th>0_qrs_morph4+0_st_interval</th>\n",
       "      <th>0_post-RR+0_pre-RR</th>\n",
       "      <th>0_tPeak+0_rPeak</th>\n",
       "      <th>0_pPeak+0_pq_interval_2</th>\n",
       "      <th>0_qrs_interval+0_pq_interval</th>\n",
       "    </tr>\n",
       "  </thead>\n",
       "  <tbody>\n",
       "    <tr>\n",
       "      <th>0</th>\n",
       "      <td>1.401086</td>\n",
       "      <td>1.072214</td>\n",
       "      <td>-0.172344</td>\n",
       "      <td>0.868328</td>\n",
       "      <td>1.579265</td>\n",
       "      <td>-0.484948</td>\n",
       "      <td>-0.999596</td>\n",
       "      <td>0.258920</td>\n",
       "      <td>0.801474</td>\n",
       "    </tr>\n",
       "    <tr>\n",
       "      <th>1</th>\n",
       "      <td>1.638086</td>\n",
       "      <td>-0.088246</td>\n",
       "      <td>0.544123</td>\n",
       "      <td>-1.393059</td>\n",
       "      <td>0.090605</td>\n",
       "      <td>1.836917</td>\n",
       "      <td>-0.321331</td>\n",
       "      <td>0.069201</td>\n",
       "      <td>0.258408</td>\n",
       "    </tr>\n",
       "    <tr>\n",
       "      <th>2</th>\n",
       "      <td>1.639022</td>\n",
       "      <td>-0.069245</td>\n",
       "      <td>0.461299</td>\n",
       "      <td>-1.530002</td>\n",
       "      <td>0.256182</td>\n",
       "      <td>1.911473</td>\n",
       "      <td>-0.272833</td>\n",
       "      <td>0.162612</td>\n",
       "      <td>0.283862</td>\n",
       "    </tr>\n",
       "    <tr>\n",
       "      <th>3</th>\n",
       "      <td>1.743417</td>\n",
       "      <td>0.059386</td>\n",
       "      <td>0.530110</td>\n",
       "      <td>-1.528909</td>\n",
       "      <td>0.321756</td>\n",
       "      <td>2.045184</td>\n",
       "      <td>-0.219420</td>\n",
       "      <td>0.133830</td>\n",
       "      <td>0.202239</td>\n",
       "    </tr>\n",
       "    <tr>\n",
       "      <th>4</th>\n",
       "      <td>0.511588</td>\n",
       "      <td>-0.094315</td>\n",
       "      <td>3.129400</td>\n",
       "      <td>-0.787993</td>\n",
       "      <td>1.293964</td>\n",
       "      <td>1.018972</td>\n",
       "      <td>0.988468</td>\n",
       "      <td>0.507839</td>\n",
       "      <td>-0.209770</td>\n",
       "    </tr>\n",
       "  </tbody>\n",
       "</table>\n",
       "</div>"
      ],
      "text/plain": [
       "   0_qrs_morph1+0_qrs_morph3  0_qt_interval+0_qrs_interval  0_sPeak+0_pre-RR  \\\n",
       "0                   1.401086                      1.072214         -0.172344   \n",
       "1                   1.638086                     -0.088246          0.544123   \n",
       "2                   1.639022                     -0.069245          0.461299   \n",
       "3                   1.743417                      0.059386          0.530110   \n",
       "4                   0.511588                     -0.094315          3.129400   \n",
       "\n",
       "   0_pPeak+0_pq_interval  0_qrs_morph4+0_st_interval  0_post-RR+0_pre-RR  \\\n",
       "0               0.868328                    1.579265           -0.484948   \n",
       "1              -1.393059                    0.090605            1.836917   \n",
       "2              -1.530002                    0.256182            1.911473   \n",
       "3              -1.528909                    0.321756            2.045184   \n",
       "4              -0.787993                    1.293964            1.018972   \n",
       "\n",
       "   0_tPeak+0_rPeak  0_pPeak+0_pq_interval_2  0_qrs_interval+0_pq_interval  \n",
       "0        -0.999596                 0.258920                      0.801474  \n",
       "1        -0.321331                 0.069201                      0.258408  \n",
       "2        -0.272833                 0.162612                      0.283862  \n",
       "3        -0.219420                 0.133830                      0.202239  \n",
       "4         0.988468                 0.507839                     -0.209770  "
      ]
     },
     "execution_count": 21,
     "metadata": {},
     "output_type": "execute_result"
    }
   ],
   "source": [
    "# Extract the loadings (contributions of each original feature to each principal component)\n",
    "loadings = pd.DataFrame(pca.components_, columns=features.columns)\n",
    "\n",
    "def get_unique_component_names(loadings, top_n=2):\n",
    "    component_names = []\n",
    "    name_counts = {}\n",
    "    \n",
    "    for idx, component in loadings.iterrows():\n",
    "        # Get top_n features based on absolute values of loadings\n",
    "        top_features = component.abs().nlargest(top_n).index.tolist()\n",
    "        component_name = '+'.join(top_features)\n",
    "        \n",
    "        # Ensure unique names by appending a count if the name repeats\n",
    "        if component_name in name_counts:\n",
    "            name_counts[component_name] += 1\n",
    "            unique_name = f\"{component_name}_{name_counts[component_name]}\"\n",
    "        else:\n",
    "            name_counts[component_name] = 1\n",
    "            unique_name = component_name\n",
    "        \n",
    "        component_names.append(unique_name)\n",
    "    \n",
    "    return component_names\n",
    "\n",
    "# Generate unique names for each principal component\n",
    "component_names = get_unique_component_names(loadings)\n",
    "\n",
    "# Display the transformed data with unique column names\n",
    "pca_df = pd.DataFrame(data_pca, columns=component_names)\n",
    "pca_df.head()"
   ]
  },
  {
   "cell_type": "code",
   "execution_count": 22,
   "metadata": {},
   "outputs": [
    {
     "data": {
      "text/plain": [
       "0_qrs_morph1+0_qrs_morph3       1\n",
       "0_qt_interval+0_qrs_interval    1\n",
       "0_sPeak+0_pre-RR                1\n",
       "0_pPeak+0_pq_interval           1\n",
       "0_qrs_morph4+0_st_interval      1\n",
       "0_post-RR+0_pre-RR              1\n",
       "0_tPeak+0_rPeak                 1\n",
       "0_pPeak+0_pq_interval_2         1\n",
       "0_qrs_interval+0_pq_interval    1\n",
       "Name: count, dtype: int64"
      ]
     },
     "execution_count": 22,
     "metadata": {},
     "output_type": "execute_result"
    }
   ],
   "source": [
    "pca_df.columns.value_counts()"
   ]
  },
  {
   "cell_type": "code",
   "execution_count": 23,
   "metadata": {},
   "outputs": [
    {
     "data": {
      "text/plain": [
       "Index(['0_qrs_morph1+0_qrs_morph3', '0_qt_interval+0_qrs_interval',\n",
       "       '0_sPeak+0_pre-RR', '0_pPeak+0_pq_interval',\n",
       "       '0_qrs_morph4+0_st_interval', '0_post-RR+0_pre-RR', '0_tPeak+0_rPeak',\n",
       "       '0_pPeak+0_pq_interval_2', '0_qrs_interval+0_pq_interval'],\n",
       "      dtype='object')"
      ]
     },
     "execution_count": 23,
     "metadata": {},
     "output_type": "execute_result"
    }
   ],
   "source": [
    "pca_df.columns.unique()"
   ]
  },
  {
   "cell_type": "code",
   "execution_count": null,
   "metadata": {},
   "outputs": [
    {
     "data": {
      "text/html": [
       "<div>\n",
       "<style scoped>\n",
       "    .dataframe tbody tr th:only-of-type {\n",
       "        vertical-align: middle;\n",
       "    }\n",
       "\n",
       "    .dataframe tbody tr th {\n",
       "        vertical-align: top;\n",
       "    }\n",
       "\n",
       "    .dataframe thead th {\n",
       "        text-align: right;\n",
       "    }\n",
       "</style>\n",
       "<table border=\"1\" class=\"dataframe\">\n",
       "  <thead>\n",
       "    <tr style=\"text-align: right;\">\n",
       "      <th></th>\n",
       "      <th>0_qrs_morph1+0_qrs_morph3</th>\n",
       "      <th>0_qt_interval+0_qrs_interval</th>\n",
       "      <th>0_sPeak+0_pre-RR</th>\n",
       "      <th>0_pPeak+0_pq_interval</th>\n",
       "      <th>0_qrs_morph4+0_st_interval</th>\n",
       "      <th>0_post-RR+0_pre-RR</th>\n",
       "      <th>0_tPeak+0_rPeak</th>\n",
       "      <th>0_pPeak+0_pq_interval_2</th>\n",
       "      <th>0_qrs_interval+0_pq_interval</th>\n",
       "      <th>type</th>\n",
       "    </tr>\n",
       "  </thead>\n",
       "  <tbody>\n",
       "    <tr>\n",
       "      <th>0</th>\n",
       "      <td>1.401086</td>\n",
       "      <td>1.072214</td>\n",
       "      <td>-0.172344</td>\n",
       "      <td>0.868328</td>\n",
       "      <td>1.579265</td>\n",
       "      <td>-0.484948</td>\n",
       "      <td>-0.999596</td>\n",
       "      <td>0.258920</td>\n",
       "      <td>0.801474</td>\n",
       "      <td>N</td>\n",
       "    </tr>\n",
       "    <tr>\n",
       "      <th>1</th>\n",
       "      <td>1.638086</td>\n",
       "      <td>-0.088246</td>\n",
       "      <td>0.544123</td>\n",
       "      <td>-1.393059</td>\n",
       "      <td>0.090605</td>\n",
       "      <td>1.836917</td>\n",
       "      <td>-0.321331</td>\n",
       "      <td>0.069201</td>\n",
       "      <td>0.258408</td>\n",
       "      <td>N</td>\n",
       "    </tr>\n",
       "    <tr>\n",
       "      <th>2</th>\n",
       "      <td>1.639022</td>\n",
       "      <td>-0.069245</td>\n",
       "      <td>0.461299</td>\n",
       "      <td>-1.530002</td>\n",
       "      <td>0.256182</td>\n",
       "      <td>1.911473</td>\n",
       "      <td>-0.272833</td>\n",
       "      <td>0.162612</td>\n",
       "      <td>0.283862</td>\n",
       "      <td>N</td>\n",
       "    </tr>\n",
       "    <tr>\n",
       "      <th>3</th>\n",
       "      <td>1.743417</td>\n",
       "      <td>0.059386</td>\n",
       "      <td>0.530110</td>\n",
       "      <td>-1.528909</td>\n",
       "      <td>0.321756</td>\n",
       "      <td>2.045184</td>\n",
       "      <td>-0.219420</td>\n",
       "      <td>0.133830</td>\n",
       "      <td>0.202239</td>\n",
       "      <td>N</td>\n",
       "    </tr>\n",
       "    <tr>\n",
       "      <th>4</th>\n",
       "      <td>0.511588</td>\n",
       "      <td>-0.094315</td>\n",
       "      <td>3.129400</td>\n",
       "      <td>-0.787993</td>\n",
       "      <td>1.293964</td>\n",
       "      <td>1.018972</td>\n",
       "      <td>0.988468</td>\n",
       "      <td>0.507839</td>\n",
       "      <td>-0.209770</td>\n",
       "      <td>N</td>\n",
       "    </tr>\n",
       "  </tbody>\n",
       "</table>\n",
       "</div>"
      ],
      "text/plain": [
       "   0_qrs_morph1+0_qrs_morph3  0_qt_interval+0_qrs_interval  0_sPeak+0_pre-RR  \\\n",
       "0                   1.401086                      1.072214         -0.172344   \n",
       "1                   1.638086                     -0.088246          0.544123   \n",
       "2                   1.639022                     -0.069245          0.461299   \n",
       "3                   1.743417                      0.059386          0.530110   \n",
       "4                   0.511588                     -0.094315          3.129400   \n",
       "\n",
       "   0_pPeak+0_pq_interval  0_qrs_morph4+0_st_interval  0_post-RR+0_pre-RR  \\\n",
       "0               0.868328                    1.579265           -0.484948   \n",
       "1              -1.393059                    0.090605            1.836917   \n",
       "2              -1.530002                    0.256182            1.911473   \n",
       "3              -1.528909                    0.321756            2.045184   \n",
       "4              -0.787993                    1.293964            1.018972   \n",
       "\n",
       "   0_tPeak+0_rPeak  0_pPeak+0_pq_interval_2  0_qrs_interval+0_pq_interval type  \n",
       "0        -0.999596                 0.258920                      0.801474    N  \n",
       "1        -0.321331                 0.069201                      0.258408    N  \n",
       "2        -0.272833                 0.162612                      0.283862    N  \n",
       "3        -0.219420                 0.133830                      0.202239    N  \n",
       "4         0.988468                 0.507839                     -0.209770    N  "
      ]
     },
     "execution_count": 24,
     "metadata": {},
     "output_type": "execute_result"
    }
   ],
   "source": [
    "# Add the 'type' column to the PCA DataFrame\n",
    "final_df = pd.concat([pca_df, labels.reset_index(drop=True)], axis=1)\n",
    "\n",
    "final_df.head()"
   ]
  },
  {
   "cell_type": "code",
   "execution_count": 25,
   "metadata": {},
   "outputs": [
    {
     "data": {
      "text/plain": [
       "array(['N', 'Q', 'SVEB', 'VEB', 'F'], dtype=object)"
      ]
     },
     "execution_count": 25,
     "metadata": {},
     "output_type": "execute_result"
    }
   ],
   "source": [
    "final_df['type'].unique()"
   ]
  },
  {
   "cell_type": "code",
   "execution_count": 27,
   "metadata": {},
   "outputs": [
    {
     "data": {
      "text/plain": [
       "type\n",
       "N       809352\n",
       "VEB      51669\n",
       "SVEB     18540\n",
       "Q         6620\n",
       "F         1256\n",
       "Name: count, dtype: int64"
      ]
     },
     "execution_count": 27,
     "metadata": {},
     "output_type": "execute_result"
    }
   ],
   "source": [
    "final_df['type'].value_counts(dropna=False)"
   ]
  },
  {
   "cell_type": "code",
   "execution_count": null,
   "metadata": {},
   "outputs": [
    {
     "data": {
      "text/html": [
       "<div>\n",
       "<style scoped>\n",
       "    .dataframe tbody tr th:only-of-type {\n",
       "        vertical-align: middle;\n",
       "    }\n",
       "\n",
       "    .dataframe tbody tr th {\n",
       "        vertical-align: top;\n",
       "    }\n",
       "\n",
       "    .dataframe thead th {\n",
       "        text-align: right;\n",
       "    }\n",
       "</style>\n",
       "<table border=\"1\" class=\"dataframe\">\n",
       "  <thead>\n",
       "    <tr style=\"text-align: right;\">\n",
       "      <th></th>\n",
       "      <th>0_qrs_morph1+0_qrs_morph3</th>\n",
       "      <th>0_qt_interval+0_qrs_interval</th>\n",
       "      <th>0_sPeak+0_pre-RR</th>\n",
       "      <th>0_pPeak+0_pq_interval</th>\n",
       "      <th>0_qrs_morph4+0_st_interval</th>\n",
       "      <th>0_post-RR+0_pre-RR</th>\n",
       "      <th>0_tPeak+0_rPeak</th>\n",
       "      <th>0_pPeak+0_pq_interval_2</th>\n",
       "      <th>0_qrs_interval+0_pq_interval</th>\n",
       "      <th>type</th>\n",
       "    </tr>\n",
       "  </thead>\n",
       "  <tbody>\n",
       "    <tr>\n",
       "      <th>0</th>\n",
       "      <td>1.401086</td>\n",
       "      <td>1.072214</td>\n",
       "      <td>-0.172344</td>\n",
       "      <td>0.868328</td>\n",
       "      <td>1.579265</td>\n",
       "      <td>-0.484948</td>\n",
       "      <td>-0.999596</td>\n",
       "      <td>0.258920</td>\n",
       "      <td>0.801474</td>\n",
       "      <td>1</td>\n",
       "    </tr>\n",
       "    <tr>\n",
       "      <th>1</th>\n",
       "      <td>1.638086</td>\n",
       "      <td>-0.088246</td>\n",
       "      <td>0.544123</td>\n",
       "      <td>-1.393059</td>\n",
       "      <td>0.090605</td>\n",
       "      <td>1.836917</td>\n",
       "      <td>-0.321331</td>\n",
       "      <td>0.069201</td>\n",
       "      <td>0.258408</td>\n",
       "      <td>1</td>\n",
       "    </tr>\n",
       "    <tr>\n",
       "      <th>2</th>\n",
       "      <td>1.639022</td>\n",
       "      <td>-0.069245</td>\n",
       "      <td>0.461299</td>\n",
       "      <td>-1.530002</td>\n",
       "      <td>0.256182</td>\n",
       "      <td>1.911473</td>\n",
       "      <td>-0.272833</td>\n",
       "      <td>0.162612</td>\n",
       "      <td>0.283862</td>\n",
       "      <td>1</td>\n",
       "    </tr>\n",
       "    <tr>\n",
       "      <th>3</th>\n",
       "      <td>1.743417</td>\n",
       "      <td>0.059386</td>\n",
       "      <td>0.530110</td>\n",
       "      <td>-1.528909</td>\n",
       "      <td>0.321756</td>\n",
       "      <td>2.045184</td>\n",
       "      <td>-0.219420</td>\n",
       "      <td>0.133830</td>\n",
       "      <td>0.202239</td>\n",
       "      <td>1</td>\n",
       "    </tr>\n",
       "    <tr>\n",
       "      <th>4</th>\n",
       "      <td>0.511588</td>\n",
       "      <td>-0.094315</td>\n",
       "      <td>3.129400</td>\n",
       "      <td>-0.787993</td>\n",
       "      <td>1.293964</td>\n",
       "      <td>1.018972</td>\n",
       "      <td>0.988468</td>\n",
       "      <td>0.507839</td>\n",
       "      <td>-0.209770</td>\n",
       "      <td>1</td>\n",
       "    </tr>\n",
       "  </tbody>\n",
       "</table>\n",
       "</div>"
      ],
      "text/plain": [
       "   0_qrs_morph1+0_qrs_morph3  0_qt_interval+0_qrs_interval  0_sPeak+0_pre-RR  \\\n",
       "0                   1.401086                      1.072214         -0.172344   \n",
       "1                   1.638086                     -0.088246          0.544123   \n",
       "2                   1.639022                     -0.069245          0.461299   \n",
       "3                   1.743417                      0.059386          0.530110   \n",
       "4                   0.511588                     -0.094315          3.129400   \n",
       "\n",
       "   0_pPeak+0_pq_interval  0_qrs_morph4+0_st_interval  0_post-RR+0_pre-RR  \\\n",
       "0               0.868328                    1.579265           -0.484948   \n",
       "1              -1.393059                    0.090605            1.836917   \n",
       "2              -1.530002                    0.256182            1.911473   \n",
       "3              -1.528909                    0.321756            2.045184   \n",
       "4              -0.787993                    1.293964            1.018972   \n",
       "\n",
       "   0_tPeak+0_rPeak  0_pPeak+0_pq_interval_2  0_qrs_interval+0_pq_interval  \\\n",
       "0        -0.999596                 0.258920                      0.801474   \n",
       "1        -0.321331                 0.069201                      0.258408   \n",
       "2        -0.272833                 0.162612                      0.283862   \n",
       "3        -0.219420                 0.133830                      0.202239   \n",
       "4         0.988468                 0.507839                     -0.209770   \n",
       "\n",
       "   type  \n",
       "0     1  \n",
       "1     1  \n",
       "2     1  \n",
       "3     1  \n",
       "4     1  "
      ]
     },
     "execution_count": 26,
     "metadata": {},
     "output_type": "execute_result"
    }
   ],
   "source": [
    "from sklearn.preprocessing import LabelEncoder\n",
    "\n",
    "label_encoder = LabelEncoder()\n",
    "\n",
    "encoded_labels = label_encoder.fit_transform(labels)\n",
    "\n",
    "final_df['type'] = encoded_labels\n",
    "\n",
    "final_df.head()\n"
   ]
  },
  {
   "cell_type": "code",
   "execution_count": 27,
   "metadata": {},
   "outputs": [
    {
     "data": {
      "text/plain": [
       "array([1, 2, 3, 4, 0])"
      ]
     },
     "execution_count": 27,
     "metadata": {},
     "output_type": "execute_result"
    }
   ],
   "source": [
    "final_df['type'].unique()"
   ]
  },
  {
   "cell_type": "code",
   "execution_count": null,
   "metadata": {},
   "outputs": [
    {
     "data": {
      "text/html": [
       "<div>\n",
       "<style scoped>\n",
       "    .dataframe tbody tr th:only-of-type {\n",
       "        vertical-align: middle;\n",
       "    }\n",
       "\n",
       "    .dataframe tbody tr th {\n",
       "        vertical-align: top;\n",
       "    }\n",
       "\n",
       "    .dataframe thead th {\n",
       "        text-align: right;\n",
       "    }\n",
       "</style>\n",
       "<table border=\"1\" class=\"dataframe\">\n",
       "  <thead>\n",
       "    <tr style=\"text-align: right;\">\n",
       "      <th></th>\n",
       "      <th>Original Type</th>\n",
       "      <th>Encoded Value</th>\n",
       "    </tr>\n",
       "  </thead>\n",
       "  <tbody>\n",
       "    <tr>\n",
       "      <th>0</th>\n",
       "      <td>F</td>\n",
       "      <td>0</td>\n",
       "    </tr>\n",
       "    <tr>\n",
       "      <th>1</th>\n",
       "      <td>N</td>\n",
       "      <td>1</td>\n",
       "    </tr>\n",
       "    <tr>\n",
       "      <th>2</th>\n",
       "      <td>Q</td>\n",
       "      <td>2</td>\n",
       "    </tr>\n",
       "    <tr>\n",
       "      <th>3</th>\n",
       "      <td>SVEB</td>\n",
       "      <td>3</td>\n",
       "    </tr>\n",
       "    <tr>\n",
       "      <th>4</th>\n",
       "      <td>VEB</td>\n",
       "      <td>4</td>\n",
       "    </tr>\n",
       "  </tbody>\n",
       "</table>\n",
       "</div>"
      ],
      "text/plain": [
       "  Original Type  Encoded Value\n",
       "0             F              0\n",
       "1             N              1\n",
       "2             Q              2\n",
       "3          SVEB              3\n",
       "4           VEB              4"
      ]
     },
     "execution_count": 28,
     "metadata": {},
     "output_type": "execute_result"
    }
   ],
   "source": [
    "# Get the mapping of labels to encoded values\n",
    "label_mapping = dict(zip(label_encoder.classes_, label_encoder.transform(label_encoder.classes_)))\n",
    "\n",
    "# Convert to a DataFrame for a clear table format\n",
    "encoding_table = pd.DataFrame(list(label_mapping.items()), columns=['Original Type', 'Encoded Value'])\n",
    "\n",
    "encoding_table"
   ]
  },
  {
   "cell_type": "code",
   "execution_count": null,
   "metadata": {},
   "outputs": [
    {
     "data": {
      "image/png": "[encoded data removed]",
      "text/plain": [
       "<Figure size 1200x1000 with 2 Axes>"
      ]
     },
     "metadata": {},
     "output_type": "display_data"
    }
   ],
   "source": [
    "import matplotlib.pyplot as plt\n",
    "import seaborn as sns\n",
    "# Correlation Heatmap\n",
    "plt.figure(figsize=(12, 10))  \n",
    "correlation_matrix = final_df.corr()\n",
    "sns.heatmap(correlation_matrix, annot=True, cmap=\"coolwarm\", fmt=\".2f\")\n",
    "plt.title(\"Correlation Heatmap of Dataset Features\")\n",
    "plt.show()"
   ]
  },
  {
   "cell_type": "markdown",
   "metadata": {},
   "source": [
    "Training model"
   ]
  },
  {
   "cell_type": "markdown",
   "metadata": {},
   "source": [
    "CATBOOST"
   ]
  },
  {
   "cell_type": "code",
   "execution_count": null,
   "metadata": {},
   "outputs": [],
   "source": [
    "# Separate features and target\n",
    "X = final_df.drop(columns=[\"type\"])  # Features\n",
    "y = final_df[\"type\"]  # Target"
   ]
  },
  {
   "cell_type": "code",
   "execution_count": 31,
   "metadata": {},
   "outputs": [],
   "source": [
    "from sklearn.model_selection import train_test_split\n",
    "from sklearn.preprocessing import StandardScaler, OneHotEncoder\n",
    "from catboost import CatBoostClassifier\n",
    "from sklearn.metrics import accuracy_score"
   ]
  },
  {
   "cell_type": "code",
   "execution_count": null,
   "metadata": {},
   "outputs": [],
   "source": [
    "# Splitting the dataset into training and test sets\n",
    "X_train, X_test, y_train, y_test = train_test_split(final_df.drop(columns=['type']), final_df['type'], test_size=0.2, random_state=42)"
   ]
  },
  {
   "cell_type": "code",
   "execution_count": 33,
   "metadata": {},
   "outputs": [
    {
     "name": "stdout",
     "output_type": "stream",
     "text": [
      "CatBoost Accuracy: 0.96\n"
     ]
    }
   ],
   "source": [
    "catboost_model = CatBoostClassifier(iterations=500, depth=6, learning_rate=0.1, verbose=0)\n",
    "catboost_model.fit(X_train, y_train)\n",
    "catboost_predictions = catboost_model.predict(X_test)\n",
    "catboost_accuracy = accuracy_score(y_test, catboost_predictions)\n",
    "print(f\"CatBoost Accuracy: {catboost_accuracy:.2f}\")"
   ]
  },
  {
   "cell_type": "code",
   "execution_count": 34,
   "metadata": {},
   "outputs": [
    {
     "name": "stdout",
     "output_type": "stream",
     "text": [
      "Precision: 0.96\n",
      "Recall: 0.96\n",
      "F1 Score: 0.96\n",
      "\n",
      "Confusion Matrix:\n",
      " [[    89    126      0      0     32]\n",
      " [     5 160857     50    141    674]\n",
      " [     0    272   1080      2     29]\n",
      " [     0   2503      0   1124    122]\n",
      " [     9   2641     14     43   7675]]\n",
      "\n",
      "Classification Report:\n",
      "               precision    recall  f1-score   support\n",
      "\n",
      "           0       0.86      0.36      0.51       247\n",
      "           1       0.97      0.99      0.98    161727\n",
      "           2       0.94      0.78      0.85      1383\n",
      "           3       0.86      0.30      0.44      3749\n",
      "           4       0.90      0.74      0.81     10382\n",
      "\n",
      "    accuracy                           0.96    177488\n",
      "   macro avg       0.91      0.63      0.72    177488\n",
      "weighted avg       0.96      0.96      0.96    177488\n",
      "\n"
     ]
    }
   ],
   "source": [
    "from sklearn.metrics import precision_score, recall_score, f1_score, confusion_matrix, classification_report\n",
    "\n",
    "# Calculate precision\n",
    "precision = precision_score(y_test, catboost_predictions, average='weighted')\n",
    "print(f\"Precision: {precision:.2f}\")\n",
    "\n",
    "# Calculate recall\n",
    "recall = recall_score(y_test, catboost_predictions, average='weighted')\n",
    "print(f\"Recall: {recall:.2f}\")\n",
    "\n",
    "# Calculate F1 score\n",
    "f1 = f1_score(y_test, catboost_predictions, average='weighted')\n",
    "print(f\"F1 Score: {f1:.2f}\")\n",
    "\n",
    "# Generate confusion matrix\n",
    "conf_matrix = confusion_matrix(y_test, catboost_predictions)\n",
    "print(\"\\nConfusion Matrix:\\n\", conf_matrix)\n",
    "\n",
    "# Generate classification report\n",
    "report = classification_report(y_test, catboost_predictions)\n",
    "print(\"\\nClassification Report:\\n\", report)"
   ]
  },
  {
   "cell_type": "markdown",
   "metadata": {},
   "source": [
    "CNN"
   ]
  },
  {
   "cell_type": "code",
   "execution_count": 35,
   "metadata": {},
   "outputs": [],
   "source": [
    "from tensorflow.keras.models import Sequential\n",
    "from tensorflow.keras.layers import Dense, Conv1D, Flatten, MaxPooling1D\n",
    "from sklearn.metrics import accuracy_score"
   ]
  },
  {
   "cell_type": "code",
   "execution_count": 36,
   "metadata": {},
   "outputs": [],
   "source": [
    "X_train_cnn = X_train.values.reshape((X_train.shape[0], X_train.shape[1], 1))\n",
    "X_test_cnn = X_test.values.reshape((X_test.shape[0], X_test.shape[1], 1))"
   ]
  },
  {
   "cell_type": "code",
   "execution_count": 37,
   "metadata": {},
   "outputs": [
    {
     "name": "stderr",
     "output_type": "stream",
     "text": [
      "c:\\Python312\\Lib\\site-packages\\keras\\src\\layers\\convolutional\\base_conv.py:107: UserWarning: Do not pass an `input_shape`/`input_dim` argument to a layer. When using Sequential models, prefer using an `Input(shape)` object as the first layer in the model instead.\n",
      "  super().__init__(activity_regularizer=activity_regularizer, **kwargs)\n"
     ]
    }
   ],
   "source": [
    "cnn_model = Sequential([\n",
    "    Conv1D(filters=64, kernel_size=2, activation='relu', input_shape=(X_train_cnn.shape[1], 1)),\n",
    "    MaxPooling1D(pool_size=2),\n",
    "    Flatten(),\n",
    "    Dense(50, activation='relu'),\n",
    "    Dense(len(label_encoder.classes_), activation='softmax')  # Output layer for multi-class classification\n",
    "])\n",
    "\n",
    "cnn_model.compile(optimizer='adam', loss='sparse_categorical_crossentropy', metrics=['accuracy'])\n"
   ]
  },
  {
   "cell_type": "code",
   "execution_count": 38,
   "metadata": {},
   "outputs": [
    {
     "name": "stdout",
     "output_type": "stream",
     "text": [
      "Epoch 1/10\n",
      "\u001b[1m17749/17749\u001b[0m \u001b[32m━━━━━━━━━━━━━━━━━━━━\u001b[0m\u001b[37m\u001b[0m \u001b[1m30s\u001b[0m 2ms/step - accuracy: 0.9328 - loss: 0.2504 - val_accuracy: 0.9465 - val_loss: 0.1809\n",
      "Epoch 2/10\n",
      "\u001b[1m17749/17749\u001b[0m \u001b[32m━━━━━━━━━━━━━━━━━━━━\u001b[0m\u001b[37m\u001b[0m \u001b[1m26s\u001b[0m 1ms/step - accuracy: 0.9499 - loss: 0.1739 - val_accuracy: 0.9523 - val_loss: 0.1629\n",
      "Epoch 3/10\n",
      "\u001b[1m17749/17749\u001b[0m \u001b[32m━━━━━━━━━━━━━━━━━━━━\u001b[0m\u001b[37m\u001b[0m \u001b[1m32s\u001b[0m 2ms/step - accuracy: 0.9528 - loss: 0.1612 - val_accuracy: 0.9534 - val_loss: 0.1555\n",
      "Epoch 4/10\n",
      "\u001b[1m17749/17749\u001b[0m \u001b[32m━━━━━━━━━━━━━━━━━━━━\u001b[0m\u001b[37m\u001b[0m \u001b[1m35s\u001b[0m 2ms/step - accuracy: 0.9550 - loss: 0.1528 - val_accuracy: 0.9560 - val_loss: 0.1490\n",
      "Epoch 5/10\n",
      "\u001b[1m17749/17749\u001b[0m \u001b[32m━━━━━━━━━━━━━━━━━━━━\u001b[0m\u001b[37m\u001b[0m \u001b[1m38s\u001b[0m 2ms/step - accuracy: 0.9559 - loss: 0.1491 - val_accuracy: 0.9559 - val_loss: 0.1476\n",
      "Epoch 6/10\n",
      "\u001b[1m17749/17749\u001b[0m \u001b[32m━━━━━━━━━━━━━━━━━━━━\u001b[0m\u001b[37m\u001b[0m \u001b[1m38s\u001b[0m 2ms/step - accuracy: 0.9569 - loss: 0.1453 - val_accuracy: 0.9572 - val_loss: 0.1438\n",
      "Epoch 7/10\n",
      "\u001b[1m17749/17749\u001b[0m \u001b[32m━━━━━━━━━━━━━━━━━━━━\u001b[0m\u001b[37m\u001b[0m \u001b[1m39s\u001b[0m 2ms/step - accuracy: 0.9582 - loss: 0.1420 - val_accuracy: 0.9577 - val_loss: 0.1418\n",
      "Epoch 8/10\n",
      "\u001b[1m17749/17749\u001b[0m \u001b[32m━━━━━━━━━━━━━━━━━━━━\u001b[0m\u001b[37m\u001b[0m \u001b[1m41s\u001b[0m 2ms/step - accuracy: 0.9582 - loss: 0.1414 - val_accuracy: 0.9580 - val_loss: 0.1416\n",
      "Epoch 9/10\n",
      "\u001b[1m17749/17749\u001b[0m \u001b[32m━━━━━━━━━━━━━━━━━━━━\u001b[0m\u001b[37m\u001b[0m \u001b[1m42s\u001b[0m 2ms/step - accuracy: 0.9594 - loss: 0.1382 - val_accuracy: 0.9583 - val_loss: 0.1416\n",
      "Epoch 10/10\n",
      "\u001b[1m17749/17749\u001b[0m \u001b[32m━━━━━━━━━━━━━━━━━━━━\u001b[0m\u001b[37m\u001b[0m \u001b[1m36s\u001b[0m 2ms/step - accuracy: 0.9592 - loss: 0.1374 - val_accuracy: 0.9595 - val_loss: 0.1405\n"
     ]
    },
    {
     "data": {
      "text/plain": [
       "<keras.src.callbacks.history.History at 0x23699772000>"
      ]
     },
     "execution_count": 38,
     "metadata": {},
     "output_type": "execute_result"
    }
   ],
   "source": [
    "cnn_model.fit(X_train_cnn, y_train, epochs=10, batch_size=32, validation_split=0.2)"
   ]
  },
  {
   "cell_type": "code",
   "execution_count": 39,
   "metadata": {},
   "outputs": [
    {
     "name": "stdout",
     "output_type": "stream",
     "text": [
      "\u001b[1m5547/5547\u001b[0m \u001b[32m━━━━━━━━━━━━━━━━━━━━\u001b[0m\u001b[37m\u001b[0m \u001b[1m6s\u001b[0m 1ms/step - accuracy: 0.9605 - loss: 0.1367\n",
      "CNN Accuracy: 0.96\n"
     ]
    }
   ],
   "source": [
    "cnn_loss, cnn_accuracy = cnn_model.evaluate(X_test_cnn, y_test)\n",
    "print(f\"CNN Accuracy: {cnn_accuracy:.2f}\")"
   ]
  },
  {
   "cell_type": "code",
   "execution_count": null,
   "metadata": {},
   "outputs": [
    {
     "name": "stdout",
     "output_type": "stream",
     "text": [
      "\u001b[1m5547/5547\u001b[0m \u001b[32m━━━━━━━━━━━━━━━━━━━━\u001b[0m\u001b[37m\u001b[0m \u001b[1m6s\u001b[0m 1ms/step\n"
     ]
    }
   ],
   "source": [
    "import numpy as np\n",
    "# Get the model's predictions\n",
    "y_pred_prob = cnn_model.predict(X_test_cnn)   \n",
    "y_pred = np.argmax(y_pred_prob, axis=1)       "
   ]
  },
  {
   "cell_type": "code",
   "execution_count": 41,
   "metadata": {},
   "outputs": [
    {
     "name": "stdout",
     "output_type": "stream",
     "text": [
      "Model Accuracy: 0.96\n",
      "Precision: 0.96\n",
      "Recall: 0.96\n",
      "F1 Score: 0.96\n"
     ]
    }
   ],
   "source": [
    "from sklearn.metrics import precision_score, recall_score, f1_score, confusion_matrix, classification_report\n",
    "\n",
    "accuracy = accuracy_score(y_test, y_pred)\n",
    "precision = precision_score(y_test, y_pred, average='weighted')\n",
    "recall = recall_score(y_test, y_pred, average='weighted')\n",
    "f1 = f1_score(y_test, y_pred, average='weighted')\n",
    "\n",
    "# Display metrics\n",
    "print(f\"Model Accuracy: {accuracy:.2f}\")\n",
    "print(f\"Precision: {precision:.2f}\")\n",
    "print(f\"Recall: {recall:.2f}\")\n",
    "print(f\"F1 Score: {f1:.2f}\")"
   ]
  },
  {
   "cell_type": "code",
   "execution_count": 42,
   "metadata": {},
   "outputs": [
    {
     "name": "stdout",
     "output_type": "stream",
     "text": [
      "\n",
      "Confusion Matrix:\n",
      " [[    46    132      0      0     69]\n",
      " [     3 160068     71    548   1037]\n",
      " [     0    314   1034      3     32]\n",
      " [     0   2302      2   1254    191]\n",
      " [     0   2193     24    150   8015]]\n",
      "\n",
      "Classification Report:\n",
      "               precision    recall  f1-score   support\n",
      "\n",
      "           0       0.94      0.19      0.31       247\n",
      "           1       0.97      0.99      0.98    161727\n",
      "           2       0.91      0.75      0.82      1383\n",
      "           3       0.64      0.33      0.44      3749\n",
      "           4       0.86      0.77      0.81     10382\n",
      "\n",
      "    accuracy                           0.96    177488\n",
      "   macro avg       0.86      0.61      0.67    177488\n",
      "weighted avg       0.96      0.96      0.96    177488\n",
      "\n"
     ]
    }
   ],
   "source": [
    "conf_matrix = confusion_matrix(y_test, y_pred)\n",
    "print(\"\\nConfusion Matrix:\\n\", conf_matrix)\n",
    "\n",
    "# Generate and display the classification report\n",
    "report = classification_report(y_test, y_pred)\n",
    "print(\"\\nClassification Report:\\n\", report)"
   ]
  },
  {
   "cell_type": "markdown",
   "metadata": {},
   "source": [
    "HYBRID MODEL (CATBOOST + CNN)"
   ]
  },
  {
   "cell_type": "code",
   "execution_count": null,
   "metadata": {},
   "outputs": [
    {
     "name": "stdout",
     "output_type": "stream",
     "text": [
      "Epoch 1/10\n",
      "\u001b[1m17749/17749\u001b[0m \u001b[32m━━━━━━━━━━━━━━━━━━━━\u001b[0m\u001b[37m\u001b[0m \u001b[1m37s\u001b[0m 2ms/step - accuracy: 0.9520 - loss: 0.1865 - val_accuracy: 0.9653 - val_loss: 0.1252\n",
      "Epoch 2/10\n",
      "\u001b[1m17749/17749\u001b[0m \u001b[32m━━━━━━━━━━━━━━━━━━━━\u001b[0m\u001b[37m\u001b[0m \u001b[1m36s\u001b[0m 2ms/step - accuracy: 0.9659 - loss: 0.1227 - val_accuracy: 0.9655 - val_loss: 0.1213\n",
      "Epoch 3/10\n",
      "\u001b[1m17749/17749\u001b[0m \u001b[32m━━━━━━━━━━━━━━━━━━━━\u001b[0m\u001b[37m\u001b[0m \u001b[1m36s\u001b[0m 2ms/step - accuracy: 0.9658 - loss: 0.1201 - val_accuracy: 0.9658 - val_loss: 0.1196\n",
      "Epoch 4/10\n",
      "\u001b[1m17749/17749\u001b[0m \u001b[32m━━━━━━━━━━━━━━━━━━━━\u001b[0m\u001b[37m\u001b[0m \u001b[1m38s\u001b[0m 2ms/step - accuracy: 0.9665 - loss: 0.1167 - val_accuracy: 0.9661 - val_loss: 0.1181\n",
      "Epoch 5/10\n",
      "\u001b[1m17749/17749\u001b[0m \u001b[32m━━━━━━━━━━━━━━━━━━━━\u001b[0m\u001b[37m\u001b[0m \u001b[1m37s\u001b[0m 2ms/step - accuracy: 0.9668 - loss: 0.1153 - val_accuracy: 0.9665 - val_loss: 0.1158\n",
      "Epoch 6/10\n",
      "\u001b[1m17749/17749\u001b[0m \u001b[32m━━━━━━━━━━━━━━━━━━━━\u001b[0m\u001b[37m\u001b[0m \u001b[1m37s\u001b[0m 2ms/step - accuracy: 0.9674 - loss: 0.1129 - val_accuracy: 0.9665 - val_loss: 0.1131\n",
      "Epoch 7/10\n",
      "\u001b[1m17749/17749\u001b[0m \u001b[32m━━━━━━━━━━━━━━━━━━━━\u001b[0m\u001b[37m\u001b[0m \u001b[1m38s\u001b[0m 2ms/step - accuracy: 0.9674 - loss: 0.1125 - val_accuracy: 0.9663 - val_loss: 0.1152\n",
      "Epoch 8/10\n",
      "\u001b[1m17749/17749\u001b[0m \u001b[32m━━━━━━━━━━━━━━━━━━━━\u001b[0m\u001b[37m\u001b[0m \u001b[1m37s\u001b[0m 2ms/step - accuracy: 0.9676 - loss: 0.1115 - val_accuracy: 0.9670 - val_loss: 0.1132\n",
      "Epoch 9/10\n",
      "\u001b[1m17749/17749\u001b[0m \u001b[32m━━━━━━━━━━━━━━━━━━━━\u001b[0m\u001b[37m\u001b[0m \u001b[1m38s\u001b[0m 2ms/step - accuracy: 0.9678 - loss: 0.1098 - val_accuracy: 0.9674 - val_loss: 0.1119\n",
      "Epoch 10/10\n",
      "\u001b[1m17749/17749\u001b[0m \u001b[32m━━━━━━━━━━━━━━━━━━━━\u001b[0m\u001b[37m\u001b[0m \u001b[1m37s\u001b[0m 2ms/step - accuracy: 0.9680 - loss: 0.1089 - val_accuracy: 0.9671 - val_loss: 0.1144\n",
      "\u001b[1m5547/5547\u001b[0m \u001b[32m━━━━━━━━━━━━━━━━━━━━\u001b[0m\u001b[37m\u001b[0m \u001b[1m7s\u001b[0m 1ms/step - accuracy: 0.9658 - loss: 0.1176\n",
      "Hybrid Model Test Accuracy: 0.97\n"
     ]
    }
   ],
   "source": [
    "import numpy as np\n",
    "from sklearn.model_selection import train_test_split\n",
    "from sklearn.metrics import accuracy_score\n",
    "from catboost import CatBoostClassifier\n",
    "from tensorflow.keras.models import Sequential, Model\n",
    "from tensorflow.keras.layers import Conv1D, MaxPooling1D, Flatten, Dense, Input, Concatenate\n",
    "from tensorflow.keras.utils import to_categorical\n",
    "\n",
    "X = final_df.drop(columns=[\"type\"])  # Features\n",
    "y = final_df[\"type\"]  # Target\n",
    "\n",
    "X_train, X_test, y_train, y_test = train_test_split(X, y, test_size=0.2, random_state=42)\n",
    "\n",
    "# Train CatBoost on tabular data\n",
    "catboost_model = CatBoostClassifier(iterations=500, depth=6, learning_rate=0.1, verbose=0)\n",
    "catboost_model.fit(X_train, y_train)\n",
    "\n",
    "\n",
    "catboost_train_preds = catboost_model.predict_proba(X_train)\n",
    "catboost_test_preds = catboost_model.predict_proba(X_test)\n",
    "\n",
    "# Prepare CNN model for sequential data\n",
    "X_train_cnn = X_train.values.reshape((X_train.shape[0], X_train.shape[1], 1))\n",
    "X_test_cnn = X_test.values.reshape((X_test.shape[0], X_test.shape[1], 1))\n",
    "\n",
    "cnn_input = Input(shape=(X_train_cnn.shape[1], 1))\n",
    "cnn_features = Conv1D(filters=64, kernel_size=2, activation='relu')(cnn_input)\n",
    "cnn_features = MaxPooling1D(pool_size=2)(cnn_features)\n",
    "cnn_features = Flatten()(cnn_features)\n",
    "cnn_features = Dense(50, activation='relu')(cnn_features)\n",
    "\n",
    "# Concatenate CNN and CatBoost outputs\n",
    "catboost_input = Input(shape=(catboost_train_preds.shape[1],))  # CatBoost output shape\n",
    "concat = Concatenate()([cnn_features, catboost_input])\n",
    "output = Dense(len(y.unique()), activation='softmax')(concat)  # Multi-class classification\n",
    "\n",
    "# Combine and compile hybrid model\n",
    "hybrid_model = Model(inputs=[cnn_input, catboost_input], outputs=output)\n",
    "hybrid_model.compile(optimizer='adam', loss='sparse_categorical_crossentropy', metrics=['accuracy'])\n",
    "\n",
    "#Train hybrid model\n",
    "# Prepare CatBoost predictions as input\n",
    "hybrid_model.fit([X_train_cnn, catboost_train_preds], y_train, epochs=10, batch_size=32, validation_split=0.2)\n",
    "\n",
    "#  Evaluate model\n",
    "# Use CatBoost predictions for test data as CNN input\n",
    "loss, accuracy = hybrid_model.evaluate([X_test_cnn, catboost_test_preds], y_test)\n",
    "print(f'Hybrid Model Test Accuracy: {accuracy:.2f}')\n"
   ]
  },
  {
   "cell_type": "code",
   "execution_count": 44,
   "metadata": {},
   "outputs": [
    {
     "name": "stdout",
     "output_type": "stream",
     "text": [
      "\u001b[1m5547/5547\u001b[0m \u001b[32m━━━━━━━━━━━━━━━━━━━━\u001b[0m\u001b[37m\u001b[0m \u001b[1m6s\u001b[0m 1ms/step - accuracy: 0.9658 - loss: 0.1176\n",
      "Hybrid Model Test Accuracy: 0.97\n"
     ]
    }
   ],
   "source": [
    "loss, test_accuracy = hybrid_model.evaluate([X_test_cnn, catboost_test_preds], y_test)\n",
    "print(f'Hybrid Model Test Accuracy: {test_accuracy:.2f}')"
   ]
  },
  {
   "cell_type": "code",
   "execution_count": null,
   "metadata": {},
   "outputs": [
    {
     "name": "stdout",
     "output_type": "stream",
     "text": [
      "\u001b[1m5547/5547\u001b[0m \u001b[32m━━━━━━━━━━━━━━━━━━━━\u001b[0m\u001b[37m\u001b[0m \u001b[1m7s\u001b[0m 1ms/step\n",
      "Model Accuracy: 0.97\n",
      "Precision: 0.96\n",
      "Recall: 0.97\n",
      "F1 Score: 0.96\n",
      "\n",
      "Confusion Matrix:\n",
      " [[    99    118      0      0     30]\n",
      " [    10 160543     59    399    716]\n",
      " [     0    230   1125      2     26]\n",
      " [     0   2131      0   1497    121]\n",
      " [    15   2180     14     94   8079]]\n",
      "\n",
      "Classification Report:\n",
      "               precision    recall  f1-score   support\n",
      "\n",
      "           0       0.80      0.40      0.53       247\n",
      "           1       0.97      0.99      0.98    161727\n",
      "           2       0.94      0.81      0.87      1383\n",
      "           3       0.75      0.40      0.52      3749\n",
      "           4       0.90      0.78      0.83     10382\n",
      "\n",
      "    accuracy                           0.97    177488\n",
      "   macro avg       0.87      0.68      0.75    177488\n",
      "weighted avg       0.96      0.97      0.96    177488\n",
      "\n"
     ]
    }
   ],
   "source": [
    "y_pred_prob = hybrid_model.predict([X_test_cnn, catboost_test_preds])  \n",
    "y_pred = np.argmax(y_pred_prob, axis=1)  \n",
    "\n",
    "accuracy = accuracy_score(y_test, y_pred)\n",
    "precision = precision_score(y_test, y_pred, average='weighted')\n",
    "recall = recall_score(y_test, y_pred, average='weighted')\n",
    "f1 = f1_score(y_test, y_pred, average='weighted')\n",
    "\n",
    "# Display metrics\n",
    "print(f\"Model Accuracy: {accuracy:.2f}\")\n",
    "print(f\"Precision: {precision:.2f}\")\n",
    "print(f\"Recall: {recall:.2f}\")\n",
    "print(f\"F1 Score: {f1:.2f}\")\n",
    "\n",
    "conf_matrix = confusion_matrix(y_test, y_pred)\n",
    "print(\"\\nConfusion Matrix:\\n\", conf_matrix)\n",
    "\n",
    "report = classification_report(y_test, y_pred)\n",
    "print(\"\\nClassification Report:\\n\", report)"
   ]
  },
  {
   "cell_type": "code",
   "execution_count": null,
   "metadata": {},
   "outputs": [
    {
     "name": "stdout",
     "output_type": "stream",
     "text": [
      "\u001b[1m5547/5547\u001b[0m \u001b[32m━━━━━━━━━━━━━━━━━━━━\u001b[0m\u001b[37m\u001b[0m \u001b[1m7s\u001b[0m 1ms/step\n"
     ]
    },
    {
     "data": {
      "image/png": "[encoded data removed]",
      "text/plain": [
       "<Figure size 800x600 with 2 Axes>"
      ]
     },
     "metadata": {},
     "output_type": "display_data"
    },
    {
     "name": "stdout",
     "output_type": "stream",
     "text": [
      "Hybrid Model Test Accuracy from Confusion Matrix: 0.97\n"
     ]
    }
   ],
   "source": [
    "from sklearn.metrics import confusion_matrix, accuracy_score\n",
    "import numpy as np\n",
    "import seaborn as sns\n",
    "import matplotlib.pyplot as plt\n",
    "\n",
    "pred_probs = hybrid_model.predict([X_test_cnn, catboost_test_preds])\n",
    "\n",
    "y_pred = np.argmax(pred_probs, axis=1)\n",
    "\n",
    "conf_matrix = confusion_matrix(y_test, y_pred)\n",
    "\n",
    "plt.figure(figsize=(8, 6))\n",
    "sns.heatmap(conf_matrix, annot=True, fmt='d', cmap='Blues', xticklabels=y.unique(), yticklabels=y.unique())\n",
    "plt.xlabel('Predicted Labels')\n",
    "plt.ylabel('True Labels')\n",
    "plt.title('Confusion Matrix for Hybrid Model')\n",
    "plt.show()\n",
    "\n",
    "test_accuracy = accuracy_score(y_test, y_pred)\n",
    "print(f'Hybrid Model Test Accuracy from Confusion Matrix: {test_accuracy:.2f}')\n"
   ]
  },
  {
   "cell_type": "code",
   "execution_count": null,
   "metadata": {},
   "outputs": [
    {
     "data": {
      "image/png": "[encoded data removed]",
      "text/plain": [
       "<Figure size 1000x600 with 1 Axes>"
      ]
     },
     "metadata": {},
     "output_type": "display_data"
    }
   ],
   "source": [
    "import matplotlib.pyplot as plt\n",
    "import numpy as np\n",
    "\n",
    "models = ['Hybrid Model', 'CNN Model', 'CatBoost Model']\n",
    "accuracy = [0.97, 0.96, 0.96]\n",
    "precision = [0.96, 0.96, 0.96]\n",
    "recall = [0.97, 0.96, 0.96]\n",
    "f1_score = [0.96, 0.96, 0.96]\n",
    "\n",
    "bar_width = 0.2\n",
    "index = np.arange(len(models))\n",
    "\n",
    "plt.figure(figsize=(10, 6))\n",
    "plt.bar(index, accuracy, bar_width, label='Accuracy')\n",
    "plt.bar(index + bar_width, precision, bar_width, label='Precision')\n",
    "plt.bar(index + 2 * bar_width, recall, bar_width, label='Recall')\n",
    "plt.bar(index + 3 * bar_width, f1_score, bar_width, label='F1 Score')\n",
    "\n",
    "plt.xlabel('Models')\n",
    "plt.ylabel('Scores')\n",
    "plt.title('Model Performance Comparison')\n",
    "plt.xticks(index + 1.5 * bar_width, models)\n",
    "plt.ylim(0.9, 1)  \n",
    "plt.legend()\n",
    "\n",
    "# Display plot\n",
    "plt.show()\n"
   ]
  },
  {
   "cell_type": "markdown",
   "metadata": {},
   "source": [
    "This confusion matrix represents the performance of a hybrid model on a multi-class classification task. Here's a breakdown of what each part represents:\n",
    "\n",
    "Diagonal Elements (from top left to bottom right):\n",
    "\n",
    "The numbers along the diagonal show the counts of correct predictions for each class. Higher values along the diagonal indicate better performance in correctly classifying instances of that class.\n",
    "For example:\n",
    "Class 2 has the highest correct predictions with 160,423 samples correctly classified.\n",
    "Class 4 has 1,570 correct classifications.\n",
    "Class 0 has 8,317 correct classifications.\n",
    "Off-Diagonal Elements:\n",
    "\n",
    "The values outside the diagonal show misclassifications, where the true class label differs from the predicted class label.\n",
    "Notable misclassifications:\n",
    "2,029 instances of class 4 were incorrectly predicted as class 2.\n",
    "1,946 instances of class 0 were incorrectly predicted as class 2.\n",
    "781 instances of class 2 were incorrectly predicted as class 0.\n",
    "Imbalance:\n",
    "\n",
    "The matrix shows an imbalance in the number of instances across classes, with class 2 having significantly more samples than others, indicating potential class imbalance in the dataset.\n",
    "Model Performance:\n",
    "\n",
    "The model performs well on class 2 but has more difficulty with other classes, especially with misclassifications between classes 2, 4, and 0.\n",
    "To improve performance, techniques such as balancing the classes, adjusting model parameters, or using more advanced hybrid model techniques may help.\n",
    "This matrix suggests that the model is effective for some classes (notably class 2) but may benefit from further tuning to improve classification across all classes."
   ]
  },
  {
   "cell_type": "code",
   "execution_count": 48,
   "metadata": {},
   "outputs": [
    {
     "data": {
      "text/html": [
       "<div>\n",
       "<style scoped>\n",
       "    .dataframe tbody tr th:only-of-type {\n",
       "        vertical-align: middle;\n",
       "    }\n",
       "\n",
       "    .dataframe tbody tr th {\n",
       "        vertical-align: top;\n",
       "    }\n",
       "\n",
       "    .dataframe thead th {\n",
       "        text-align: right;\n",
       "    }\n",
       "</style>\n",
       "<table border=\"1\" class=\"dataframe\">\n",
       "  <thead>\n",
       "    <tr style=\"text-align: right;\">\n",
       "      <th></th>\n",
       "      <th>0_qrs_morph1+0_qrs_morph3</th>\n",
       "      <th>0_qt_interval+0_qrs_interval</th>\n",
       "      <th>0_sPeak+0_pre-RR</th>\n",
       "      <th>0_pPeak+0_pq_interval</th>\n",
       "      <th>0_qrs_morph4+0_st_interval</th>\n",
       "      <th>0_post-RR+0_pre-RR</th>\n",
       "      <th>0_tPeak+0_rPeak</th>\n",
       "      <th>0_pPeak+0_pq_interval_2</th>\n",
       "      <th>0_qrs_interval+0_pq_interval</th>\n",
       "      <th>type</th>\n",
       "    </tr>\n",
       "  </thead>\n",
       "  <tbody>\n",
       "    <tr>\n",
       "      <th>0</th>\n",
       "      <td>1.401086</td>\n",
       "      <td>1.072214</td>\n",
       "      <td>-0.172344</td>\n",
       "      <td>0.868328</td>\n",
       "      <td>1.579265</td>\n",
       "      <td>-0.484948</td>\n",
       "      <td>-0.999596</td>\n",
       "      <td>0.258920</td>\n",
       "      <td>0.801474</td>\n",
       "      <td>1</td>\n",
       "    </tr>\n",
       "    <tr>\n",
       "      <th>1</th>\n",
       "      <td>1.638086</td>\n",
       "      <td>-0.088246</td>\n",
       "      <td>0.544123</td>\n",
       "      <td>-1.393059</td>\n",
       "      <td>0.090605</td>\n",
       "      <td>1.836917</td>\n",
       "      <td>-0.321331</td>\n",
       "      <td>0.069201</td>\n",
       "      <td>0.258408</td>\n",
       "      <td>1</td>\n",
       "    </tr>\n",
       "    <tr>\n",
       "      <th>2</th>\n",
       "      <td>1.639022</td>\n",
       "      <td>-0.069245</td>\n",
       "      <td>0.461299</td>\n",
       "      <td>-1.530002</td>\n",
       "      <td>0.256182</td>\n",
       "      <td>1.911473</td>\n",
       "      <td>-0.272833</td>\n",
       "      <td>0.162612</td>\n",
       "      <td>0.283862</td>\n",
       "      <td>1</td>\n",
       "    </tr>\n",
       "    <tr>\n",
       "      <th>3</th>\n",
       "      <td>1.743417</td>\n",
       "      <td>0.059386</td>\n",
       "      <td>0.530110</td>\n",
       "      <td>-1.528909</td>\n",
       "      <td>0.321756</td>\n",
       "      <td>2.045184</td>\n",
       "      <td>-0.219420</td>\n",
       "      <td>0.133830</td>\n",
       "      <td>0.202239</td>\n",
       "      <td>1</td>\n",
       "    </tr>\n",
       "    <tr>\n",
       "      <th>4</th>\n",
       "      <td>0.511588</td>\n",
       "      <td>-0.094315</td>\n",
       "      <td>3.129400</td>\n",
       "      <td>-0.787993</td>\n",
       "      <td>1.293964</td>\n",
       "      <td>1.018972</td>\n",
       "      <td>0.988468</td>\n",
       "      <td>0.507839</td>\n",
       "      <td>-0.209770</td>\n",
       "      <td>1</td>\n",
       "    </tr>\n",
       "    <tr>\n",
       "      <th>...</th>\n",
       "      <td>...</td>\n",
       "      <td>...</td>\n",
       "      <td>...</td>\n",
       "      <td>...</td>\n",
       "      <td>...</td>\n",
       "      <td>...</td>\n",
       "      <td>...</td>\n",
       "      <td>...</td>\n",
       "      <td>...</td>\n",
       "      <td>...</td>\n",
       "    </tr>\n",
       "    <tr>\n",
       "      <th>887432</th>\n",
       "      <td>-12.434628</td>\n",
       "      <td>3.574262</td>\n",
       "      <td>-3.276569</td>\n",
       "      <td>-2.058789</td>\n",
       "      <td>0.326774</td>\n",
       "      <td>2.014807</td>\n",
       "      <td>0.374828</td>\n",
       "      <td>-0.113266</td>\n",
       "      <td>-0.225166</td>\n",
       "      <td>4</td>\n",
       "    </tr>\n",
       "    <tr>\n",
       "      <th>887433</th>\n",
       "      <td>-4.789957</td>\n",
       "      <td>0.593172</td>\n",
       "      <td>0.230734</td>\n",
       "      <td>-0.808829</td>\n",
       "      <td>0.539191</td>\n",
       "      <td>1.031587</td>\n",
       "      <td>0.536594</td>\n",
       "      <td>0.126469</td>\n",
       "      <td>-0.408646</td>\n",
       "      <td>1</td>\n",
       "    </tr>\n",
       "    <tr>\n",
       "      <th>887434</th>\n",
       "      <td>-5.357435</td>\n",
       "      <td>0.490065</td>\n",
       "      <td>-0.061202</td>\n",
       "      <td>-1.717997</td>\n",
       "      <td>1.177038</td>\n",
       "      <td>0.756141</td>\n",
       "      <td>0.360125</td>\n",
       "      <td>-0.294308</td>\n",
       "      <td>-0.328146</td>\n",
       "      <td>1</td>\n",
       "    </tr>\n",
       "    <tr>\n",
       "      <th>887435</th>\n",
       "      <td>-5.635130</td>\n",
       "      <td>0.589799</td>\n",
       "      <td>-0.258918</td>\n",
       "      <td>-1.769195</td>\n",
       "      <td>0.712460</td>\n",
       "      <td>0.845407</td>\n",
       "      <td>0.117286</td>\n",
       "      <td>-0.500577</td>\n",
       "      <td>-0.400303</td>\n",
       "      <td>1</td>\n",
       "    </tr>\n",
       "    <tr>\n",
       "      <th>887436</th>\n",
       "      <td>-5.414507</td>\n",
       "      <td>0.452738</td>\n",
       "      <td>-0.066926</td>\n",
       "      <td>-1.739066</td>\n",
       "      <td>1.436129</td>\n",
       "      <td>0.630239</td>\n",
       "      <td>0.565087</td>\n",
       "      <td>-0.409174</td>\n",
       "      <td>-0.376786</td>\n",
       "      <td>1</td>\n",
       "    </tr>\n",
       "  </tbody>\n",
       "</table>\n",
       "<p>887437 rows × 10 columns</p>\n",
       "</div>"
      ],
      "text/plain": [
       "        0_qrs_morph1+0_qrs_morph3  0_qt_interval+0_qrs_interval  \\\n",
       "0                        1.401086                      1.072214   \n",
       "1                        1.638086                     -0.088246   \n",
       "2                        1.639022                     -0.069245   \n",
       "3                        1.743417                      0.059386   \n",
       "4                        0.511588                     -0.094315   \n",
       "...                           ...                           ...   \n",
       "887432                 -12.434628                      3.574262   \n",
       "887433                  -4.789957                      0.593172   \n",
       "887434                  -5.357435                      0.490065   \n",
       "887435                  -5.635130                      0.589799   \n",
       "887436                  -5.414507                      0.452738   \n",
       "\n",
       "        0_sPeak+0_pre-RR  0_pPeak+0_pq_interval  0_qrs_morph4+0_st_interval  \\\n",
       "0              -0.172344               0.868328                    1.579265   \n",
       "1               0.544123              -1.393059                    0.090605   \n",
       "2               0.461299              -1.530002                    0.256182   \n",
       "3               0.530110              -1.528909                    0.321756   \n",
       "4               3.129400              -0.787993                    1.293964   \n",
       "...                  ...                    ...                         ...   \n",
       "887432         -3.276569              -2.058789                    0.326774   \n",
       "887433          0.230734              -0.808829                    0.539191   \n",
       "887434         -0.061202              -1.717997                    1.177038   \n",
       "887435         -0.258918              -1.769195                    0.712460   \n",
       "887436         -0.066926              -1.739066                    1.436129   \n",
       "\n",
       "        0_post-RR+0_pre-RR  0_tPeak+0_rPeak  0_pPeak+0_pq_interval_2  \\\n",
       "0                -0.484948        -0.999596                 0.258920   \n",
       "1                 1.836917        -0.321331                 0.069201   \n",
       "2                 1.911473        -0.272833                 0.162612   \n",
       "3                 2.045184        -0.219420                 0.133830   \n",
       "4                 1.018972         0.988468                 0.507839   \n",
       "...                    ...              ...                      ...   \n",
       "887432            2.014807         0.374828                -0.113266   \n",
       "887433            1.031587         0.536594                 0.126469   \n",
       "887434            0.756141         0.360125                -0.294308   \n",
       "887435            0.845407         0.117286                -0.500577   \n",
       "887436            0.630239         0.565087                -0.409174   \n",
       "\n",
       "        0_qrs_interval+0_pq_interval  type  \n",
       "0                           0.801474     1  \n",
       "1                           0.258408     1  \n",
       "2                           0.283862     1  \n",
       "3                           0.202239     1  \n",
       "4                          -0.209770     1  \n",
       "...                              ...   ...  \n",
       "887432                     -0.225166     4  \n",
       "887433                     -0.408646     1  \n",
       "887434                     -0.328146     1  \n",
       "887435                     -0.400303     1  \n",
       "887436                     -0.376786     1  \n",
       "\n",
       "[887437 rows x 10 columns]"
      ]
     },
     "execution_count": 48,
     "metadata": {},
     "output_type": "execute_result"
    }
   ],
   "source": [
    "final_df"
   ]
  },
  {
   "cell_type": "code",
   "execution_count": 49,
   "metadata": {},
   "outputs": [
    {
     "data": {
      "text/plain": [
       "Index(['0_qrs_morph1+0_qrs_morph3', '0_qt_interval+0_qrs_interval',\n",
       "       '0_sPeak+0_pre-RR', '0_pPeak+0_pq_interval',\n",
       "       '0_qrs_morph4+0_st_interval', '0_post-RR+0_pre-RR', '0_tPeak+0_rPeak',\n",
       "       '0_pPeak+0_pq_interval_2', '0_qrs_interval+0_pq_interval', 'type'],\n",
       "      dtype='object')"
      ]
     },
     "execution_count": 49,
     "metadata": {},
     "output_type": "execute_result"
    }
   ],
   "source": [
    "final_df.columns"
   ]
  },
  {
   "cell_type": "markdown",
   "metadata": {},
   "source": [
    "QRS Morphology and Intervals (qrs_morph1, qrs_morph3, etc.):\n",
    "\n",
    "QRS morphology features describe the shape of the QRS complex, which is key to identifying abnormal heartbeats.\n",
    "Extracting QRS morphology may involve calculating metrics like the slope, width, and amplitude of the QRS complex using signal processing techniques like wavelet transform or principal component analysis (PCA).\n",
    "Libraries such as NeuroKit2 and BioSPPy can help with QRS detection, while scipy and NumPy can assist with morphology calculations.\n",
    "QT Interval (qt_interval):\n",
    "\n",
    "This is the time interval between the start of the Q wave and the end of the T wave.\n",
    "After detecting Q and T points, calculate the time interval between these two points.\n",
    "S and R Peak (sPeak, rPeak, etc.):\n",
    "\n",
    "Identify these peaks using peak detection methods. Techniques like Pan-Tompkins or matched filtering can be effective for R-peak detection.\n",
    "Once the R peak is detected, you can locate nearby S or T peaks relative to the R peak.\n",
    "Pre-RR and Post-RR Intervals (pre-RR, post-RR):\n",
    "\n",
    "RR intervals are calculated between successive R peaks.\n",
    "Pre-RR refers to the RR interval before the current heartbeat, while Post-RR is the interval after it.\n",
    "PQ Interval (pq_interval):\n",
    "\n",
    "This interval measures the time from the start of the P wave to the start of the Q wave.\n",
    "Detect the onset of the P wave and the beginning of the Q wave and calculate the interval.\n",
    "P and T Peak (pPeak, tPeak):\n",
    "\n",
    "These peaks correspond to atrial and ventricular depolarization. Using peak detection, you can locate P and T waves within the ECG signal."
   ]
  },
  {
   "cell_type": "markdown",
   "metadata": {},
   "source": [
    "ADABOOST"
   ]
  },
  {
   "cell_type": "code",
   "execution_count": 50,
   "metadata": {},
   "outputs": [],
   "source": [
    "import numpy as np\n",
    "from sklearn.ensemble import AdaBoostClassifier\n",
    "from xgboost import XGBClassifier\n",
    "from sklearn.linear_model import LinearRegression\n",
    "from sklearn.metrics import mean_squared_error, accuracy_score\n",
    "from sklearn.preprocessing import StandardScaler\n",
    "from sklearn.model_selection import train_test_split\n",
    "from tensorflow.keras.models import Sequential\n",
    "from tensorflow.keras.layers import LSTM, Dense, Dropout\n",
    "from tensorflow.keras.optimizers import Adam"
   ]
  },
  {
   "cell_type": "code",
   "execution_count": null,
   "metadata": {},
   "outputs": [],
   "source": [
    "X = final_df.drop(columns=[\"type\"])  # Features\n",
    "y = final_df[\"type\"]  # Target\n",
    "\n",
    "X_train, X_test, y_train, y_test = train_test_split(X, y, test_size=0.2, random_state=42)\n",
    "\n",
    "# Standardizing the features\n",
    "scaler = StandardScaler()\n",
    "X_train_scaled = scaler.fit_transform(X_train)\n",
    "X_test_scaled = scaler.transform(X_test)"
   ]
  },
  {
   "cell_type": "code",
   "execution_count": null,
   "metadata": {},
   "outputs": [
    {
     "name": "stderr",
     "output_type": "stream",
     "text": [
      "c:\\Python312\\Lib\\site-packages\\sklearn\\ensemble\\_weight_boosting.py:527: FutureWarning: The SAMME.R algorithm (the default) is deprecated and will be removed in 1.6. Use the SAMME algorithm to circumvent this warning.\n",
      "  warnings.warn(\n"
     ]
    }
   ],
   "source": [
    "adaboost_model = AdaBoostClassifier(n_estimators=100, learning_rate=1.0, random_state=42)\n",
    "adaboost_model.fit(X_train, y_train)\n",
    "adaboost_predictions = adaboost_model.predict(X_test)\n",
    "adaboost_accuracy = accuracy_score(y_test, adaboost_predictions)\n",
    "print(f\"AdaBoost Accuracy: {adaboost_accuracy:.2f}\")"
   ]
  },
  {
   "cell_type": "markdown",
   "metadata": {},
   "source": [
    "XGBOOST"
   ]
  },
  {
   "cell_type": "code",
   "execution_count": null,
   "metadata": {},
   "outputs": [
    {
     "name": "stdout",
     "output_type": "stream",
     "text": [
      "XGBoost Accuracy: 0.96\n"
     ]
    }
   ],
   "source": [
    "xgboost_model = XGBClassifier(n_estimators=100, learning_rate=0.1, max_depth=6, random_state=42, use_label_encoder=False, verbosity=0)\n",
    "xgboost_model.fit(X_train, y_train)\n",
    "xgboost_predictions = xgboost_model.predict(X_test)\n",
    "xgboost_accuracy = accuracy_score(y_test, xgboost_predictions)\n",
    "print(f\"XGBoost Accuracy: {xgboost_accuracy:.2f}\")"
   ]
  },
  {
   "cell_type": "markdown",
   "metadata": {},
   "source": [
    "LSTM"
   ]
  },
  {
   "cell_type": "code",
   "execution_count": null,
   "metadata": {},
   "outputs": [
    {
     "name": "stderr",
     "output_type": "stream",
     "text": [
      "c:\\Python312\\Lib\\site-packages\\keras\\src\\layers\\rnn\\rnn.py:204: UserWarning: Do not pass an `input_shape`/`input_dim` argument to a layer. When using Sequential models, prefer using an `Input(shape)` object as the first layer in the model instead.\n",
      "  super().__init__(**kwargs)\n"
     ]
    },
    {
     "name": "stdout",
     "output_type": "stream",
     "text": [
      "Epoch 1/10\n",
      "\u001b[1m22186/22186\u001b[0m \u001b[32m━━━━━━━━━━━━━━━━━━━━\u001b[0m\u001b[37m\u001b[0m \u001b[1m41s\u001b[0m 2ms/step - accuracy: 0.9119 - loss: -43.7099\n",
      "Epoch 2/10\n",
      "\u001b[1m22186/22186\u001b[0m \u001b[32m━━━━━━━━━━━━━━━━━━━━\u001b[0m\u001b[37m\u001b[0m \u001b[1m38s\u001b[0m 2ms/step - accuracy: 0.9124 - loss: -204.1540\n",
      "Epoch 3/10\n",
      "\u001b[1m22186/22186\u001b[0m \u001b[32m━━━━━━━━━━━━━━━━━━━━\u001b[0m\u001b[37m\u001b[0m \u001b[1m38s\u001b[0m 2ms/step - accuracy: 0.9122 - loss: -363.5711\n",
      "Epoch 4/10\n",
      "\u001b[1m22186/22186\u001b[0m \u001b[32m━━━━━━━━━━━━━━━━━━━━\u001b[0m\u001b[37m\u001b[0m \u001b[1m38s\u001b[0m 2ms/step - accuracy: 0.9122 - loss: -524.6606\n",
      "Epoch 5/10\n",
      "\u001b[1m22186/22186\u001b[0m \u001b[32m━━━━━━━━━━━━━━━━━━━━\u001b[0m\u001b[37m\u001b[0m \u001b[1m38s\u001b[0m 2ms/step - accuracy: 0.9124 - loss: -681.2268\n",
      "Epoch 6/10\n",
      "\u001b[1m22186/22186\u001b[0m \u001b[32m━━━━━━━━━━━━━━━━━━━━\u001b[0m\u001b[37m\u001b[0m \u001b[1m39s\u001b[0m 2ms/step - accuracy: 0.9125 - loss: -840.2411\n",
      "Epoch 7/10\n",
      "\u001b[1m22186/22186\u001b[0m \u001b[32m━━━━━━━━━━━━━━━━━━━━\u001b[0m\u001b[37m\u001b[0m \u001b[1m38s\u001b[0m 2ms/step - accuracy: 0.9122 - loss: -1005.0446\n",
      "Epoch 8/10\n",
      "\u001b[1m22186/22186\u001b[0m \u001b[32m━━━━━━━━━━━━━━━━━━━━\u001b[0m\u001b[37m\u001b[0m \u001b[1m39s\u001b[0m 2ms/step - accuracy: 0.9129 - loss: -1154.1760\n",
      "Epoch 9/10\n",
      "\u001b[1m22186/22186\u001b[0m \u001b[32m━━━━━━━━━━━━━━━━━━━━\u001b[0m\u001b[37m\u001b[0m \u001b[1m38s\u001b[0m 2ms/step - accuracy: 0.9128 - loss: -1311.7599\n",
      "Epoch 10/10\n",
      "\u001b[1m22186/22186\u001b[0m \u001b[32m━━━━━━━━━━━━━━━━━━━━\u001b[0m\u001b[37m\u001b[0m \u001b[1m38s\u001b[0m 2ms/step - accuracy: 0.9129 - loss: -1470.5343\n",
      "\u001b[1m5547/5547\u001b[0m \u001b[32m━━━━━━━━━━━━━━━━━━━━\u001b[0m\u001b[37m\u001b[0m \u001b[1m5s\u001b[0m 768us/step\n",
      "LSTM Accuracy: 0.91\n"
     ]
    }
   ],
   "source": [
    "X_train_lstm = X_train_scaled.reshape(X_train_scaled.shape[0], 1, X_train_scaled.shape[1])\n",
    "X_test_lstm = X_test_scaled.reshape(X_test_scaled.shape[0], 1, X_test_scaled.shape[1])\n",
    "\n",
    "lstm_model = Sequential([\n",
    "    LSTM(50, return_sequences=True, input_shape=(1, X_train_scaled.shape[1])),\n",
    "    Dropout(0.2),\n",
    "    LSTM(50),\n",
    "    Dropout(0.2),\n",
    "    Dense(1, activation='sigmoid')\n",
    "])\n",
    "\n",
    "lstm_model.compile(optimizer=Adam(learning_rate=0.001), loss='binary_crossentropy', metrics=['accuracy'])\n",
    "lstm_model.fit(X_train_lstm, y_train, epochs=10, batch_size=32, verbose=1)\n",
    "lstm_predictions = lstm_model.predict(X_test_lstm)\n",
    "lstm_predictions_binary = (lstm_predictions > 0.5).astype(int).flatten()\n",
    "lstm_accuracy = accuracy_score(y_test, lstm_predictions_binary)\n",
    "print(f\"LSTM Accuracy: {lstm_accuracy:.2f}\")\n"
   ]
  },
  {
   "cell_type": "code",
   "execution_count": null,
   "metadata": {},
   "outputs": [
    {
     "name": "stdout",
     "output_type": "stream",
     "text": [
      "AdaBoost - Accuracy: 0.92, Precision: 0.89, Recall: 0.92, F1-Score: 0.90\n"
     ]
    }
   ],
   "source": [
    "from sklearn.metrics import accuracy_score, precision_score, recall_score, f1_score, mean_squared_error\n",
    "adaboost_accuracy = accuracy_score(y_test, adaboost_predictions)\n",
    "adaboost_precision = precision_score(y_test, adaboost_predictions, average='weighted')\n",
    "adaboost_recall = recall_score(y_test, adaboost_predictions, average='weighted')\n",
    "adaboost_f1 = f1_score(y_test, adaboost_predictions, average='weighted')\n",
    "print(f\"AdaBoost - Accuracy: {adaboost_accuracy:.2f}, Precision: {adaboost_precision:.2f}, Recall: {adaboost_recall:.2f}, F1-Score: {adaboost_f1:.2f}\")"
   ]
  },
  {
   "cell_type": "code",
   "execution_count": null,
   "metadata": {},
   "outputs": [
    {
     "name": "stdout",
     "output_type": "stream",
     "text": [
      "XGBoost - Accuracy: 0.96, Precision: 0.96, Recall: 0.96, F1-Score: 0.95\n"
     ]
    }
   ],
   "source": [
    "xgboost_accuracy = accuracy_score(y_test, xgboost_predictions)\n",
    "xgboost_precision = precision_score(y_test, xgboost_predictions, average='weighted')\n",
    "xgboost_recall = recall_score(y_test, xgboost_predictions, average='weighted')\n",
    "xgboost_f1 = f1_score(y_test, xgboost_predictions, average='weighted')\n",
    "print(f\"XGBoost - Accuracy: {xgboost_accuracy:.2f}, Precision: {xgboost_precision:.2f}, Recall: {xgboost_recall:.2f}, F1-Score: {xgboost_f1:.2f}\")\n"
   ]
  },
  {
   "cell_type": "code",
   "execution_count": null,
   "metadata": {},
   "outputs": [
    {
     "name": "stdout",
     "output_type": "stream",
     "text": [
      "LSTM - Accuracy: 0.91, Precision: 0.83, Recall: 0.91, F1-Score: 0.87\n"
     ]
    },
    {
     "name": "stderr",
     "output_type": "stream",
     "text": [
      "c:\\Python312\\Lib\\site-packages\\sklearn\\metrics\\_classification.py:1517: UndefinedMetricWarning: Precision is ill-defined and being set to 0.0 in labels with no predicted samples. Use `zero_division` parameter to control this behavior.\n",
      "  _warn_prf(average, modifier, f\"{metric.capitalize()} is\", len(result))\n"
     ]
    }
   ],
   "source": [
    "lstm_accuracy = accuracy_score(y_test, lstm_predictions_binary)\n",
    "lstm_precision = precision_score(y_test, lstm_predictions_binary, average='weighted')\n",
    "lstm_recall = recall_score(y_test, lstm_predictions_binary, average='weighted')\n",
    "lstm_f1 = f1_score(y_test, lstm_predictions_binary, average='weighted')\n",
    "print(f\"LSTM - Accuracy: {lstm_accuracy:.2f}, Precision: {lstm_precision:.2f}, Recall: {lstm_recall:.2f}, F1-Score: {lstm_f1:.2f}\")"
   ]
  },
  {
   "cell_type": "markdown",
   "metadata": {},
   "source": [
    "Logistic Regression"
   ]
  },
  {
   "cell_type": "code",
   "execution_count": null,
   "metadata": {},
   "outputs": [
    {
     "name": "stdout",
     "output_type": "stream",
     "text": [
      "Logistic Regression - Accuracy: 0.91\n",
      "Logistic Regression - Precision: 0.88\n",
      "Logistic Regression - Recall: 0.91\n",
      "Logistic Regression - F1-Score: 0.89\n"
     ]
    },
    {
     "name": "stderr",
     "output_type": "stream",
     "text": [
      "c:\\Python312\\Lib\\site-packages\\sklearn\\base.py:486: UserWarning: X has feature names, but LogisticRegression was fitted without feature names\n",
      "  warnings.warn(\n"
     ]
    }
   ],
   "source": [
    "from sklearn.linear_model import LogisticRegression\n",
    "logistic_model = LogisticRegression(random_state=42, max_iter=500)\n",
    "logistic_model.fit(X_train_scaled, y_train)\n",
    "\n",
    "# Predictions\n",
    "logistic_predictions = logistic_model.predict(X_test)\n",
    "\n",
    "# Performance Metrics\n",
    "logistic_accuracy = accuracy_score(y_test, logistic_predictions)\n",
    "logistic_precision = precision_score(y_test, logistic_predictions, average='weighted')\n",
    "logistic_recall = recall_score(y_test, logistic_predictions, average='weighted')\n",
    "logistic_f1 = f1_score(y_test, logistic_predictions, average='weighted')\n",
    "\n",
    "# Print Metrics\n",
    "print(f\"Logistic Regression - Accuracy: {logistic_accuracy:.2f}\")\n",
    "print(f\"Logistic Regression - Precision: {logistic_precision:.2f}\")\n",
    "print(f\"Logistic Regression - Recall: {logistic_recall:.2f}\")\n",
    "print(f\"Logistic Regression - F1-Score: {logistic_f1:.2f}\")"
   ]
  },
  {
   "cell_type": "markdown",
   "metadata": {},
   "source": []
  }
 ],
 "metadata": {
  "kernelspec": {
   "display_name": "Python 3",
   "language": "python",
   "name": "python3"
  },
  "language_info": {
   "codemirror_mode": {
    "name": "ipython",
    "version": 3
   },
   "file_extension": ".py",
   "mimetype": "text/x-python",
   "name": "python",
   "nbconvert_exporter": "python",
   "pygments_lexer": "ipython3",
   "version": "3.12.1"
  }
 },
 "nbformat": 4,
 "nbformat_minor": 2
}
